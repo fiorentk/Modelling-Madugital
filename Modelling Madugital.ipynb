{
 "cells": [
  {
   "cell_type": "markdown",
   "id": "be1e1f7d",
   "metadata": {},
   "source": [
    "# Modelling for Madugital\n",
    "Madugital is a company that sells honey online. One day, Madugital's CRM Manager wanted to know which customers had the greatest potential to buy their products based on their activities on the website, so that Madugital could contact these customers more quickly with the right treatment.\n",
    "\n",
    "The Madugital company has a lead collection in the form of filled in forms from several customers who access their website through various marketing channels. From this data, there are some customers who buy the product and some who don't, this is recorded in the 'converted' column."
   ]
  },
  {
   "cell_type": "markdown",
   "id": "58c02034",
   "metadata": {},
   "source": [
    "## 1. Data Preparation"
   ]
  },
  {
   "cell_type": "markdown",
   "id": "73488894",
   "metadata": {},
   "source": [
    "### Import Packages"
   ]
  },
  {
   "cell_type": "code",
   "execution_count": 1,
   "id": "26f65c17",
   "metadata": {},
   "outputs": [],
   "source": [
    "import pandas as pd\n",
    "import numpy as np\n",
    "import matplotlib.pyplot as plt\n",
    "\n",
    "from sklearn.preprocessing import StandardScaler, MinMaxScaler\n",
    "from sklearn.model_selection import train_test_split\n",
    "from sklearn.tree import DecisionTreeClassifier\n",
    "from sklearn.metrics import accuracy_score, precision_score, recall_score"
   ]
  },
  {
   "cell_type": "markdown",
   "id": "a43828aa",
   "metadata": {},
   "source": [
    "### Data Overview\n",
    "Import data and view data"
   ]
  },
  {
   "cell_type": "code",
   "execution_count": 2,
   "id": "eb9c49a7",
   "metadata": {},
   "outputs": [],
   "source": [
    "data=pd.read_csv(\"Data Madugital.csv\")"
   ]
  },
  {
   "cell_type": "code",
   "execution_count": 3,
   "id": "7d077d68",
   "metadata": {},
   "outputs": [
    {
     "data": {
      "text/html": [
       "<div>\n",
       "<style scoped>\n",
       "    .dataframe tbody tr th:only-of-type {\n",
       "        vertical-align: middle;\n",
       "    }\n",
       "\n",
       "    .dataframe tbody tr th {\n",
       "        vertical-align: top;\n",
       "    }\n",
       "\n",
       "    .dataframe thead th {\n",
       "        text-align: right;\n",
       "    }\n",
       "</style>\n",
       "<table border=\"1\" class=\"dataframe\">\n",
       "  <thead>\n",
       "    <tr style=\"text-align: right;\">\n",
       "      <th></th>\n",
       "      <th>Prospect ID</th>\n",
       "      <th>Lead Number</th>\n",
       "      <th>Lead Origin</th>\n",
       "      <th>Lead Source</th>\n",
       "      <th>Do Not Email</th>\n",
       "      <th>Do Not Call</th>\n",
       "      <th>Converted</th>\n",
       "      <th>TotalVisits</th>\n",
       "      <th>Total Time Spent on Website</th>\n",
       "      <th>Page Views Per Visit</th>\n",
       "      <th>...</th>\n",
       "      <th>Get updates on DM Content</th>\n",
       "      <th>Lead Profile</th>\n",
       "      <th>City</th>\n",
       "      <th>Asymmetrique Activity Index</th>\n",
       "      <th>Asymmetrique Profile Index</th>\n",
       "      <th>Asymmetrique Activity Score</th>\n",
       "      <th>Asymmetrique Profile Score</th>\n",
       "      <th>I agree to pay the amount through cheque</th>\n",
       "      <th>A free copy of Mastering The Interview</th>\n",
       "      <th>Last Notable Activity</th>\n",
       "    </tr>\n",
       "  </thead>\n",
       "  <tbody>\n",
       "    <tr>\n",
       "      <th>0</th>\n",
       "      <td>7927b2df-8bba-4d29-b9a2-b6e0beafe620</td>\n",
       "      <td>660737</td>\n",
       "      <td>API</td>\n",
       "      <td>Olark Chat</td>\n",
       "      <td>No</td>\n",
       "      <td>No</td>\n",
       "      <td>0</td>\n",
       "      <td>0.0</td>\n",
       "      <td>0</td>\n",
       "      <td>0.0</td>\n",
       "      <td>...</td>\n",
       "      <td>No</td>\n",
       "      <td>Select</td>\n",
       "      <td>Select</td>\n",
       "      <td>02.Medium</td>\n",
       "      <td>02.Medium</td>\n",
       "      <td>15.0</td>\n",
       "      <td>15.0</td>\n",
       "      <td>No</td>\n",
       "      <td>No</td>\n",
       "      <td>Modified</td>\n",
       "    </tr>\n",
       "    <tr>\n",
       "      <th>1</th>\n",
       "      <td>2a272436-5132-4136-86fa-dcc88c88f482</td>\n",
       "      <td>660728</td>\n",
       "      <td>API</td>\n",
       "      <td>Organic Search</td>\n",
       "      <td>No</td>\n",
       "      <td>No</td>\n",
       "      <td>0</td>\n",
       "      <td>5.0</td>\n",
       "      <td>674</td>\n",
       "      <td>2.5</td>\n",
       "      <td>...</td>\n",
       "      <td>No</td>\n",
       "      <td>Select</td>\n",
       "      <td>Select</td>\n",
       "      <td>02.Medium</td>\n",
       "      <td>02.Medium</td>\n",
       "      <td>15.0</td>\n",
       "      <td>15.0</td>\n",
       "      <td>No</td>\n",
       "      <td>No</td>\n",
       "      <td>Email Opened</td>\n",
       "    </tr>\n",
       "    <tr>\n",
       "      <th>2</th>\n",
       "      <td>8cc8c611-a219-4f35-ad23-fdfd2656bd8a</td>\n",
       "      <td>660727</td>\n",
       "      <td>Landing Page Submission</td>\n",
       "      <td>Direct Traffic</td>\n",
       "      <td>No</td>\n",
       "      <td>No</td>\n",
       "      <td>1</td>\n",
       "      <td>2.0</td>\n",
       "      <td>1532</td>\n",
       "      <td>2.0</td>\n",
       "      <td>...</td>\n",
       "      <td>No</td>\n",
       "      <td>Potential Lead</td>\n",
       "      <td>Jakarta</td>\n",
       "      <td>02.Medium</td>\n",
       "      <td>01.High</td>\n",
       "      <td>14.0</td>\n",
       "      <td>20.0</td>\n",
       "      <td>No</td>\n",
       "      <td>Yes</td>\n",
       "      <td>Email Opened</td>\n",
       "    </tr>\n",
       "    <tr>\n",
       "      <th>3</th>\n",
       "      <td>0cc2df48-7cf4-4e39-9de9-19797f9b38cc</td>\n",
       "      <td>660719</td>\n",
       "      <td>Landing Page Submission</td>\n",
       "      <td>Direct Traffic</td>\n",
       "      <td>No</td>\n",
       "      <td>No</td>\n",
       "      <td>0</td>\n",
       "      <td>1.0</td>\n",
       "      <td>305</td>\n",
       "      <td>1.0</td>\n",
       "      <td>...</td>\n",
       "      <td>No</td>\n",
       "      <td>Select</td>\n",
       "      <td>Jakarta</td>\n",
       "      <td>02.Medium</td>\n",
       "      <td>01.High</td>\n",
       "      <td>13.0</td>\n",
       "      <td>17.0</td>\n",
       "      <td>No</td>\n",
       "      <td>No</td>\n",
       "      <td>Modified</td>\n",
       "    </tr>\n",
       "    <tr>\n",
       "      <th>4</th>\n",
       "      <td>3256f628-e534-4826-9d63-4a8b88782852</td>\n",
       "      <td>660681</td>\n",
       "      <td>Landing Page Submission</td>\n",
       "      <td>Google</td>\n",
       "      <td>No</td>\n",
       "      <td>No</td>\n",
       "      <td>1</td>\n",
       "      <td>2.0</td>\n",
       "      <td>1428</td>\n",
       "      <td>1.0</td>\n",
       "      <td>...</td>\n",
       "      <td>No</td>\n",
       "      <td>Select</td>\n",
       "      <td>Jakarta</td>\n",
       "      <td>02.Medium</td>\n",
       "      <td>01.High</td>\n",
       "      <td>15.0</td>\n",
       "      <td>18.0</td>\n",
       "      <td>No</td>\n",
       "      <td>No</td>\n",
       "      <td>Modified</td>\n",
       "    </tr>\n",
       "  </tbody>\n",
       "</table>\n",
       "<p>5 rows × 37 columns</p>\n",
       "</div>"
      ],
      "text/plain": [
       "                            Prospect ID  Lead Number              Lead Origin  \\\n",
       "0  7927b2df-8bba-4d29-b9a2-b6e0beafe620       660737                      API   \n",
       "1  2a272436-5132-4136-86fa-dcc88c88f482       660728                      API   \n",
       "2  8cc8c611-a219-4f35-ad23-fdfd2656bd8a       660727  Landing Page Submission   \n",
       "3  0cc2df48-7cf4-4e39-9de9-19797f9b38cc       660719  Landing Page Submission   \n",
       "4  3256f628-e534-4826-9d63-4a8b88782852       660681  Landing Page Submission   \n",
       "\n",
       "      Lead Source Do Not Email Do Not Call  Converted  TotalVisits  \\\n",
       "0      Olark Chat           No          No          0          0.0   \n",
       "1  Organic Search           No          No          0          5.0   \n",
       "2  Direct Traffic           No          No          1          2.0   \n",
       "3  Direct Traffic           No          No          0          1.0   \n",
       "4          Google           No          No          1          2.0   \n",
       "\n",
       "   Total Time Spent on Website  Page Views Per Visit  ...  \\\n",
       "0                            0                   0.0  ...   \n",
       "1                          674                   2.5  ...   \n",
       "2                         1532                   2.0  ...   \n",
       "3                          305                   1.0  ...   \n",
       "4                         1428                   1.0  ...   \n",
       "\n",
       "  Get updates on DM Content    Lead Profile     City  \\\n",
       "0                        No          Select   Select   \n",
       "1                        No          Select   Select   \n",
       "2                        No  Potential Lead  Jakarta   \n",
       "3                        No          Select  Jakarta   \n",
       "4                        No          Select  Jakarta   \n",
       "\n",
       "  Asymmetrique Activity Index Asymmetrique Profile Index  \\\n",
       "0                   02.Medium                  02.Medium   \n",
       "1                   02.Medium                  02.Medium   \n",
       "2                   02.Medium                    01.High   \n",
       "3                   02.Medium                    01.High   \n",
       "4                   02.Medium                    01.High   \n",
       "\n",
       "  Asymmetrique Activity Score Asymmetrique Profile Score  \\\n",
       "0                        15.0                       15.0   \n",
       "1                        15.0                       15.0   \n",
       "2                        14.0                       20.0   \n",
       "3                        13.0                       17.0   \n",
       "4                        15.0                       18.0   \n",
       "\n",
       "  I agree to pay the amount through cheque  \\\n",
       "0                                       No   \n",
       "1                                       No   \n",
       "2                                       No   \n",
       "3                                       No   \n",
       "4                                       No   \n",
       "\n",
       "  A free copy of Mastering The Interview Last Notable Activity  \n",
       "0                                     No              Modified  \n",
       "1                                     No          Email Opened  \n",
       "2                                    Yes          Email Opened  \n",
       "3                                     No              Modified  \n",
       "4                                     No              Modified  \n",
       "\n",
       "[5 rows x 37 columns]"
      ]
     },
     "execution_count": 3,
     "metadata": {},
     "output_type": "execute_result"
    }
   ],
   "source": [
    "data.head()"
   ]
  },
  {
   "cell_type": "code",
   "execution_count": 4,
   "id": "28aef2b0",
   "metadata": {},
   "outputs": [
    {
     "data": {
      "text/html": [
       "<div>\n",
       "<style scoped>\n",
       "    .dataframe tbody tr th:only-of-type {\n",
       "        vertical-align: middle;\n",
       "    }\n",
       "\n",
       "    .dataframe tbody tr th {\n",
       "        vertical-align: top;\n",
       "    }\n",
       "\n",
       "    .dataframe thead th {\n",
       "        text-align: right;\n",
       "    }\n",
       "</style>\n",
       "<table border=\"1\" class=\"dataframe\">\n",
       "  <thead>\n",
       "    <tr style=\"text-align: right;\">\n",
       "      <th></th>\n",
       "      <th>Prospect ID</th>\n",
       "      <th>Lead Number</th>\n",
       "      <th>Lead Origin</th>\n",
       "      <th>Lead Source</th>\n",
       "      <th>Do Not Email</th>\n",
       "      <th>Do Not Call</th>\n",
       "      <th>Converted</th>\n",
       "      <th>TotalVisits</th>\n",
       "      <th>Total Time Spent on Website</th>\n",
       "      <th>Page Views Per Visit</th>\n",
       "      <th>...</th>\n",
       "      <th>Get updates on DM Content</th>\n",
       "      <th>Lead Profile</th>\n",
       "      <th>City</th>\n",
       "      <th>Asymmetrique Activity Index</th>\n",
       "      <th>Asymmetrique Profile Index</th>\n",
       "      <th>Asymmetrique Activity Score</th>\n",
       "      <th>Asymmetrique Profile Score</th>\n",
       "      <th>I agree to pay the amount through cheque</th>\n",
       "      <th>A free copy of Mastering The Interview</th>\n",
       "      <th>Last Notable Activity</th>\n",
       "    </tr>\n",
       "  </thead>\n",
       "  <tbody>\n",
       "    <tr>\n",
       "      <th>9235</th>\n",
       "      <td>19d6451e-fcd6-407c-b83b-48e1af805ea9</td>\n",
       "      <td>579564</td>\n",
       "      <td>Landing Page Submission</td>\n",
       "      <td>Direct Traffic</td>\n",
       "      <td>Yes</td>\n",
       "      <td>No</td>\n",
       "      <td>1</td>\n",
       "      <td>8.0</td>\n",
       "      <td>1845</td>\n",
       "      <td>2.67</td>\n",
       "      <td>...</td>\n",
       "      <td>No</td>\n",
       "      <td>Potential Lead</td>\n",
       "      <td>Jakarta</td>\n",
       "      <td>02.Medium</td>\n",
       "      <td>01.High</td>\n",
       "      <td>15.0</td>\n",
       "      <td>17.0</td>\n",
       "      <td>No</td>\n",
       "      <td>No</td>\n",
       "      <td>Email Marked Spam</td>\n",
       "    </tr>\n",
       "    <tr>\n",
       "      <th>9236</th>\n",
       "      <td>82a7005b-7196-4d56-95ce-a79f937a158d</td>\n",
       "      <td>579546</td>\n",
       "      <td>Landing Page Submission</td>\n",
       "      <td>Direct Traffic</td>\n",
       "      <td>No</td>\n",
       "      <td>No</td>\n",
       "      <td>0</td>\n",
       "      <td>2.0</td>\n",
       "      <td>238</td>\n",
       "      <td>2.00</td>\n",
       "      <td>...</td>\n",
       "      <td>No</td>\n",
       "      <td>Potential Lead</td>\n",
       "      <td>Jakarta</td>\n",
       "      <td>02.Medium</td>\n",
       "      <td>01.High</td>\n",
       "      <td>14.0</td>\n",
       "      <td>19.0</td>\n",
       "      <td>No</td>\n",
       "      <td>Yes</td>\n",
       "      <td>SMS Sent</td>\n",
       "    </tr>\n",
       "    <tr>\n",
       "      <th>9237</th>\n",
       "      <td>aac550fe-a586-452d-8d3c-f1b62c94e02c</td>\n",
       "      <td>579545</td>\n",
       "      <td>Landing Page Submission</td>\n",
       "      <td>Direct Traffic</td>\n",
       "      <td>Yes</td>\n",
       "      <td>No</td>\n",
       "      <td>0</td>\n",
       "      <td>2.0</td>\n",
       "      <td>199</td>\n",
       "      <td>2.00</td>\n",
       "      <td>...</td>\n",
       "      <td>No</td>\n",
       "      <td>Potential Lead</td>\n",
       "      <td>Jakarta</td>\n",
       "      <td>02.Medium</td>\n",
       "      <td>01.High</td>\n",
       "      <td>13.0</td>\n",
       "      <td>20.0</td>\n",
       "      <td>No</td>\n",
       "      <td>Yes</td>\n",
       "      <td>SMS Sent</td>\n",
       "    </tr>\n",
       "    <tr>\n",
       "      <th>9238</th>\n",
       "      <td>5330a7d1-2f2b-4df4-85d6-64ca2f6b95b9</td>\n",
       "      <td>579538</td>\n",
       "      <td>Landing Page Submission</td>\n",
       "      <td>Google</td>\n",
       "      <td>No</td>\n",
       "      <td>No</td>\n",
       "      <td>1</td>\n",
       "      <td>3.0</td>\n",
       "      <td>499</td>\n",
       "      <td>3.00</td>\n",
       "      <td>...</td>\n",
       "      <td>No</td>\n",
       "      <td>NaN</td>\n",
       "      <td>Other Metro Cities</td>\n",
       "      <td>02.Medium</td>\n",
       "      <td>02.Medium</td>\n",
       "      <td>15.0</td>\n",
       "      <td>16.0</td>\n",
       "      <td>No</td>\n",
       "      <td>No</td>\n",
       "      <td>SMS Sent</td>\n",
       "    </tr>\n",
       "    <tr>\n",
       "      <th>9239</th>\n",
       "      <td>571b5c8e-a5b2-4d57-8574-f2ffb06fdeff</td>\n",
       "      <td>579533</td>\n",
       "      <td>Landing Page Submission</td>\n",
       "      <td>Direct Traffic</td>\n",
       "      <td>No</td>\n",
       "      <td>No</td>\n",
       "      <td>1</td>\n",
       "      <td>6.0</td>\n",
       "      <td>1279</td>\n",
       "      <td>3.00</td>\n",
       "      <td>...</td>\n",
       "      <td>No</td>\n",
       "      <td>Potential Lead</td>\n",
       "      <td>Other Cities</td>\n",
       "      <td>02.Medium</td>\n",
       "      <td>01.High</td>\n",
       "      <td>15.0</td>\n",
       "      <td>18.0</td>\n",
       "      <td>No</td>\n",
       "      <td>Yes</td>\n",
       "      <td>Modified</td>\n",
       "    </tr>\n",
       "  </tbody>\n",
       "</table>\n",
       "<p>5 rows × 37 columns</p>\n",
       "</div>"
      ],
      "text/plain": [
       "                               Prospect ID  Lead Number  \\\n",
       "9235  19d6451e-fcd6-407c-b83b-48e1af805ea9       579564   \n",
       "9236  82a7005b-7196-4d56-95ce-a79f937a158d       579546   \n",
       "9237  aac550fe-a586-452d-8d3c-f1b62c94e02c       579545   \n",
       "9238  5330a7d1-2f2b-4df4-85d6-64ca2f6b95b9       579538   \n",
       "9239  571b5c8e-a5b2-4d57-8574-f2ffb06fdeff       579533   \n",
       "\n",
       "                  Lead Origin     Lead Source Do Not Email Do Not Call  \\\n",
       "9235  Landing Page Submission  Direct Traffic          Yes          No   \n",
       "9236  Landing Page Submission  Direct Traffic           No          No   \n",
       "9237  Landing Page Submission  Direct Traffic          Yes          No   \n",
       "9238  Landing Page Submission          Google           No          No   \n",
       "9239  Landing Page Submission  Direct Traffic           No          No   \n",
       "\n",
       "      Converted  TotalVisits  Total Time Spent on Website  \\\n",
       "9235          1          8.0                         1845   \n",
       "9236          0          2.0                          238   \n",
       "9237          0          2.0                          199   \n",
       "9238          1          3.0                          499   \n",
       "9239          1          6.0                         1279   \n",
       "\n",
       "      Page Views Per Visit  ... Get updates on DM Content    Lead Profile  \\\n",
       "9235                  2.67  ...                        No  Potential Lead   \n",
       "9236                  2.00  ...                        No  Potential Lead   \n",
       "9237                  2.00  ...                        No  Potential Lead   \n",
       "9238                  3.00  ...                        No             NaN   \n",
       "9239                  3.00  ...                        No  Potential Lead   \n",
       "\n",
       "                    City Asymmetrique Activity Index  \\\n",
       "9235             Jakarta                   02.Medium   \n",
       "9236             Jakarta                   02.Medium   \n",
       "9237             Jakarta                   02.Medium   \n",
       "9238  Other Metro Cities                   02.Medium   \n",
       "9239        Other Cities                   02.Medium   \n",
       "\n",
       "     Asymmetrique Profile Index Asymmetrique Activity Score  \\\n",
       "9235                    01.High                        15.0   \n",
       "9236                    01.High                        14.0   \n",
       "9237                    01.High                        13.0   \n",
       "9238                  02.Medium                        15.0   \n",
       "9239                    01.High                        15.0   \n",
       "\n",
       "     Asymmetrique Profile Score I agree to pay the amount through cheque  \\\n",
       "9235                       17.0                                       No   \n",
       "9236                       19.0                                       No   \n",
       "9237                       20.0                                       No   \n",
       "9238                       16.0                                       No   \n",
       "9239                       18.0                                       No   \n",
       "\n",
       "     A free copy of Mastering The Interview Last Notable Activity  \n",
       "9235                                     No     Email Marked Spam  \n",
       "9236                                    Yes              SMS Sent  \n",
       "9237                                    Yes              SMS Sent  \n",
       "9238                                     No              SMS Sent  \n",
       "9239                                    Yes              Modified  \n",
       "\n",
       "[5 rows x 37 columns]"
      ]
     },
     "execution_count": 4,
     "metadata": {},
     "output_type": "execute_result"
    }
   ],
   "source": [
    "data.tail()"
   ]
  },
  {
   "cell_type": "code",
   "execution_count": 5,
   "id": "eccb3ee4",
   "metadata": {},
   "outputs": [
    {
     "data": {
      "text/plain": [
       "(9240, 37)"
      ]
     },
     "execution_count": 5,
     "metadata": {},
     "output_type": "execute_result"
    }
   ],
   "source": [
    "data.shape"
   ]
  },
  {
   "cell_type": "code",
   "execution_count": 6,
   "id": "55e278c5",
   "metadata": {},
   "outputs": [
    {
     "name": "stdout",
     "output_type": "stream",
     "text": [
      "<class 'pandas.core.frame.DataFrame'>\n",
      "RangeIndex: 9240 entries, 0 to 9239\n",
      "Data columns (total 37 columns):\n",
      " #   Column                                          Non-Null Count  Dtype  \n",
      "---  ------                                          --------------  -----  \n",
      " 0   Prospect ID                                     9240 non-null   object \n",
      " 1   Lead Number                                     9240 non-null   int64  \n",
      " 2   Lead Origin                                     9240 non-null   object \n",
      " 3   Lead Source                                     9204 non-null   object \n",
      " 4   Do Not Email                                    9240 non-null   object \n",
      " 5   Do Not Call                                     9240 non-null   object \n",
      " 6   Converted                                       9240 non-null   int64  \n",
      " 7   TotalVisits                                     9103 non-null   float64\n",
      " 8   Total Time Spent on Website                     9240 non-null   int64  \n",
      " 9   Page Views Per Visit                            9103 non-null   float64\n",
      " 10  Last Activity                                   9137 non-null   object \n",
      " 11  Country                                         6779 non-null   object \n",
      " 12  Specialization                                  7802 non-null   object \n",
      " 13  How did you hear about Madugital                7033 non-null   object \n",
      " 14  What is your current occupation                 6550 non-null   object \n",
      " 15  What matters most to you in choosing a product  6531 non-null   object \n",
      " 16  Search                                          9240 non-null   object \n",
      " 17  Magazine                                        9240 non-null   object \n",
      " 18  Newspaper Article                               9240 non-null   object \n",
      " 19  Madugital Telegram                              9240 non-null   object \n",
      " 20  Newspaper                                       9240 non-null   object \n",
      " 21  Digital Advertisement                           9240 non-null   object \n",
      " 22  Through Recommendations                         9240 non-null   object \n",
      " 23  Receive More Updates About Our Products         9240 non-null   object \n",
      " 24  Tags                                            5887 non-null   object \n",
      " 25  Lead Quality                                    4473 non-null   object \n",
      " 26  Update me on Supply Chain Content               9240 non-null   object \n",
      " 27  Get updates on DM Content                       9240 non-null   object \n",
      " 28  Lead Profile                                    6531 non-null   object \n",
      " 29  City                                            7820 non-null   object \n",
      " 30  Asymmetrique Activity Index                     5022 non-null   object \n",
      " 31  Asymmetrique Profile Index                      5022 non-null   object \n",
      " 32  Asymmetrique Activity Score                     5022 non-null   float64\n",
      " 33  Asymmetrique Profile Score                      5022 non-null   float64\n",
      " 34  I agree to pay the amount through cheque        9240 non-null   object \n",
      " 35  A free copy of Mastering The Interview          9240 non-null   object \n",
      " 36  Last Notable Activity                           9240 non-null   object \n",
      "dtypes: float64(4), int64(3), object(30)\n",
      "memory usage: 2.6+ MB\n"
     ]
    }
   ],
   "source": [
    "data.info()"
   ]
  },
  {
   "cell_type": "markdown",
   "id": "d3aece61",
   "metadata": {},
   "source": [
    "### Data Quality Check\n",
    "Check if there's any missing value or any unique data or duplicated data"
   ]
  },
  {
   "cell_type": "code",
   "execution_count": 7,
   "id": "3e234334",
   "metadata": {},
   "outputs": [
    {
     "data": {
      "text/plain": [
       "Prospect ID                                          0\n",
       "Lead Number                                          0\n",
       "Lead Origin                                          0\n",
       "Lead Source                                         36\n",
       "Do Not Email                                         0\n",
       "Do Not Call                                          0\n",
       "Converted                                            0\n",
       "TotalVisits                                        137\n",
       "Total Time Spent on Website                          0\n",
       "Page Views Per Visit                               137\n",
       "Last Activity                                      103\n",
       "Country                                           2461\n",
       "Specialization                                    1438\n",
       "How did you hear about Madugital                  2207\n",
       "What is your current occupation                   2690\n",
       "What matters most to you in choosing a product    2709\n",
       "Search                                               0\n",
       "Magazine                                             0\n",
       "Newspaper Article                                    0\n",
       "Madugital Telegram                                   0\n",
       "Newspaper                                            0\n",
       "Digital Advertisement                                0\n",
       "Through Recommendations                              0\n",
       "Receive More Updates About Our Products              0\n",
       "Tags                                              3353\n",
       "Lead Quality                                      4767\n",
       "Update me on Supply Chain Content                    0\n",
       "Get updates on DM Content                            0\n",
       "Lead Profile                                      2709\n",
       "City                                              1420\n",
       "Asymmetrique Activity Index                       4218\n",
       "Asymmetrique Profile Index                        4218\n",
       "Asymmetrique Activity Score                       4218\n",
       "Asymmetrique Profile Score                        4218\n",
       "I agree to pay the amount through cheque             0\n",
       "A free copy of Mastering The Interview               0\n",
       "Last Notable Activity                                0\n",
       "dtype: int64"
      ]
     },
     "execution_count": 7,
     "metadata": {},
     "output_type": "execute_result"
    }
   ],
   "source": [
    "data.isnull().sum()"
   ]
  },
  {
   "cell_type": "code",
   "execution_count": 8,
   "id": "ddbea470",
   "metadata": {
    "scrolled": true
   },
   "outputs": [
    {
     "data": {
      "text/plain": [
       "Prospect ID                                        0.000000\n",
       "Lead Number                                        0.000000\n",
       "Lead Origin                                        0.000000\n",
       "Lead Source                                        0.389610\n",
       "Do Not Email                                       0.000000\n",
       "Do Not Call                                        0.000000\n",
       "Converted                                          0.000000\n",
       "TotalVisits                                        1.482684\n",
       "Total Time Spent on Website                        0.000000\n",
       "Page Views Per Visit                               1.482684\n",
       "Last Activity                                      1.114719\n",
       "Country                                           26.634199\n",
       "Specialization                                    15.562771\n",
       "How did you hear about Madugital                  23.885281\n",
       "What is your current occupation                   29.112554\n",
       "What matters most to you in choosing a product    29.318182\n",
       "Search                                             0.000000\n",
       "Magazine                                           0.000000\n",
       "Newspaper Article                                  0.000000\n",
       "Madugital Telegram                                 0.000000\n",
       "Newspaper                                          0.000000\n",
       "Digital Advertisement                              0.000000\n",
       "Through Recommendations                            0.000000\n",
       "Receive More Updates About Our Products            0.000000\n",
       "Tags                                              36.287879\n",
       "Lead Quality                                      51.590909\n",
       "Update me on Supply Chain Content                  0.000000\n",
       "Get updates on DM Content                          0.000000\n",
       "Lead Profile                                      29.318182\n",
       "City                                              15.367965\n",
       "Asymmetrique Activity Index                       45.649351\n",
       "Asymmetrique Profile Index                        45.649351\n",
       "Asymmetrique Activity Score                       45.649351\n",
       "Asymmetrique Profile Score                        45.649351\n",
       "I agree to pay the amount through cheque           0.000000\n",
       "A free copy of Mastering The Interview             0.000000\n",
       "Last Notable Activity                              0.000000\n",
       "dtype: float64"
      ]
     },
     "execution_count": 8,
     "metadata": {},
     "output_type": "execute_result"
    }
   ],
   "source": [
    "data.isna().mean() * 100"
   ]
  },
  {
   "cell_type": "code",
   "execution_count": 9,
   "id": "68f4f124",
   "metadata": {},
   "outputs": [
    {
     "data": {
      "text/plain": [
       "array(['Olark Chat', 'Organic Search', 'Direct Traffic', 'Google',\n",
       "       'Referral Sites', 'Welingak Website', 'Reference', 'google',\n",
       "       'Facebook', nan, 'blog', 'Pay per Click Ads', 'bing',\n",
       "       'Social Media', 'WeLearn', 'Click2call', 'Live Chat',\n",
       "       'welearnblog_Home', 'youtubechannel', 'testone', 'Press_Release',\n",
       "       'NC_EDM'], dtype=object)"
      ]
     },
     "execution_count": 9,
     "metadata": {},
     "output_type": "execute_result"
    }
   ],
   "source": [
    "data['Lead Source'].unique()"
   ]
  },
  {
   "cell_type": "code",
   "execution_count": 10,
   "id": "96b5f408",
   "metadata": {},
   "outputs": [
    {
     "data": {
      "text/plain": [
       "array([  0.,   5.,   2.,   1.,   4.,   8.,  11.,   6.,   3.,   7.,  13.,\n",
       "        17.,  nan,   9.,  12.,  10.,  16.,  14.,  21.,  15.,  22.,  19.,\n",
       "        18.,  20.,  43.,  30.,  23.,  55., 141.,  25.,  27.,  29.,  24.,\n",
       "        28.,  26.,  74.,  41.,  54., 115., 251.,  32.,  42.])"
      ]
     },
     "execution_count": 10,
     "metadata": {},
     "output_type": "execute_result"
    }
   ],
   "source": [
    "data['TotalVisits'].unique()"
   ]
  },
  {
   "cell_type": "code",
   "execution_count": 11,
   "id": "dff4de84",
   "metadata": {
    "scrolled": true
   },
   "outputs": [
    {
     "data": {
      "text/plain": [
       "array([ 0.  ,  2.5 ,  2.  ,  1.  ,  4.  ,  8.  ,  2.67, 11.  ,  5.  ,\n",
       "        6.  ,  3.  ,  1.33,  1.5 ,  3.5 ,  7.  ,  2.33, 13.  ,  8.5 ,\n",
       "        5.5 ,  1.67,   nan,  4.5 ,  3.33, 16.  , 12.  ,  1.71,  1.8 ,\n",
       "        6.5 ,  4.33, 14.  ,  3.4 , 10.  ,  1.25,  1.75,  2.63, 15.  ,\n",
       "        2.25,  3.67,  1.43,  9.  ,  2.6 ,  4.75,  1.27,  3.25,  5.33,\n",
       "        2.57,  2.17,  2.75,  2.8 ,  2.2 ,  2.86,  3.91,  1.4 ,  5.67,\n",
       "        3.2 ,  1.38,  2.09,  2.4 , 55.  ,  5.25,  6.71,  3.57,  2.22,\n",
       "        1.83,  3.6 ,  1.2 ,  1.57,  1.56,  5.4 ,  4.25,  1.31,  1.6 ,\n",
       "        2.9 ,  1.23,  1.78,  3.83,  7.5 ,  1.14,  2.71,  1.45,  2.38,\n",
       "        1.86,  2.29,  1.21, 12.33,  3.43,  2.56,  6.33,  1.64,  8.21,\n",
       "        4.4 ,  3.17,  8.33,  1.48,  1.22, 24.  ,  3.75,  6.67,  1.54,\n",
       "        2.13,  2.14,  2.45,  3.29,  4.17,  1.63,  3.38,  1.17, 14.5 ,\n",
       "        3.8 ,  1.19,  3.82,  2.83,  1.93, 11.5 ,  2.08])"
      ]
     },
     "execution_count": 11,
     "metadata": {},
     "output_type": "execute_result"
    }
   ],
   "source": [
    "data['Page Views Per Visit'].unique()"
   ]
  },
  {
   "cell_type": "code",
   "execution_count": 12,
   "id": "6661b188",
   "metadata": {},
   "outputs": [
    {
     "data": {
      "text/plain": [
       "array([nan, 'Indonesia', 'Russia', 'Kuwait', 'Oman',\n",
       "       'United Arab Emirates', 'United States', 'Australia',\n",
       "       'United Kingdom', 'Bahrain', 'Ghana', 'Singapore', 'Qatar',\n",
       "       'Saudi Arabia', 'Belgium', 'France', 'Sri Lanka', 'China',\n",
       "       'Canada', 'Netherlands', 'Sweden', 'Nigeria', 'Hong Kong',\n",
       "       'Germany', 'Asia/Pacific Region', 'Uganda', 'Kenya', 'Italy',\n",
       "       'South Africa', 'Tanzania', 'unknown', 'Malaysia', 'Liberia',\n",
       "       'Switzerland', 'Denmark', 'Philippines', 'Bangladesh', 'Vietnam',\n",
       "       'India'], dtype=object)"
      ]
     },
     "execution_count": 12,
     "metadata": {},
     "output_type": "execute_result"
    }
   ],
   "source": [
    "data['Country'].unique()"
   ]
  },
  {
   "cell_type": "code",
   "execution_count": 13,
   "id": "a841acc4",
   "metadata": {},
   "outputs": [
    {
     "data": {
      "text/plain": [
       "array(['Select', 'Business Administration', 'Media and Advertising', nan,\n",
       "       'Supply Chain Management', 'IT Projects Management',\n",
       "       'Finance Management', 'Travel and Tourism',\n",
       "       'Human Resource Management', 'Marketing Management',\n",
       "       'Banking, Investment And Insurance', 'International Business',\n",
       "       'E-COMMERCE', 'Operations Management', 'Retail Management',\n",
       "       'Services Excellence', 'Hospitality Management',\n",
       "       'Rural and Agribusiness', 'Healthcare Management', 'E-Business'],\n",
       "      dtype=object)"
      ]
     },
     "execution_count": 13,
     "metadata": {},
     "output_type": "execute_result"
    }
   ],
   "source": [
    "data['Specialization'].unique()"
   ]
  },
  {
   "cell_type": "code",
   "execution_count": 14,
   "id": "b6fdfa85",
   "metadata": {},
   "outputs": [
    {
     "data": {
      "text/plain": [
       "array(['Select', 'Word Of Mouth', 'Other', nan, 'Online Search',\n",
       "       'Multiple Sources', 'Advertisements', 'Student of SomeSchool',\n",
       "       'Email', 'Social Media', 'SMS'], dtype=object)"
      ]
     },
     "execution_count": 14,
     "metadata": {},
     "output_type": "execute_result"
    }
   ],
   "source": [
    "data['How did you hear about Madugital'].unique()"
   ]
  },
  {
   "cell_type": "code",
   "execution_count": 15,
   "id": "bd4cd9d5",
   "metadata": {},
   "outputs": [
    {
     "data": {
      "text/plain": [
       "array(['Unemployed', 'Student', nan, 'Working Professional',\n",
       "       'Businessman', 'Other', 'Housewife'], dtype=object)"
      ]
     },
     "execution_count": 15,
     "metadata": {},
     "output_type": "execute_result"
    }
   ],
   "source": [
    "data['What is your current occupation'].unique()"
   ]
  },
  {
   "cell_type": "code",
   "execution_count": 16,
   "id": "7791f840",
   "metadata": {},
   "outputs": [
    {
     "data": {
      "text/plain": [
       "array(['Healthy for life', nan, 'Branding', 'Other'], dtype=object)"
      ]
     },
     "execution_count": 16,
     "metadata": {},
     "output_type": "execute_result"
    }
   ],
   "source": [
    "data['What matters most to you in choosing a product'].unique()"
   ]
  },
  {
   "cell_type": "code",
   "execution_count": 17,
   "id": "30fb0085",
   "metadata": {},
   "outputs": [
    {
     "data": {
      "text/plain": [
       "array(['Interested in other courses', 'Ringing',\n",
       "       'Will revert after reading the email', nan, 'Lost to EINS',\n",
       "       'In confusion whether part time or DLP', 'Busy', 'switched off',\n",
       "       'in touch with EINS', 'Already a student',\n",
       "       'Diploma holder (Not Eligible)', 'Graduation in progress',\n",
       "       'Closed by Horizzon', 'number not provided', 'opp hangup',\n",
       "       'Not doing further education', 'invalid number',\n",
       "       'wrong number given', 'Interested  in full time MBA',\n",
       "       'Still Thinking', 'Lost to Others',\n",
       "       'Shall take in the next coming month', 'Lateral student',\n",
       "       'Interested in Next batch', 'Recognition issue (DEC approval)',\n",
       "       'Want to take admission but has financial problems',\n",
       "       'University not recognized'], dtype=object)"
      ]
     },
     "execution_count": 17,
     "metadata": {},
     "output_type": "execute_result"
    }
   ],
   "source": [
    "data['Tags'].unique()"
   ]
  },
  {
   "cell_type": "code",
   "execution_count": 18,
   "id": "55dbb5b0",
   "metadata": {},
   "outputs": [
    {
     "data": {
      "text/plain": [
       "array(['Low in Relevance', nan, 'Might be', 'Not Sure', 'Worst',\n",
       "       'High in Relevance'], dtype=object)"
      ]
     },
     "execution_count": 18,
     "metadata": {},
     "output_type": "execute_result"
    }
   ],
   "source": [
    "data['Lead Quality'].unique()"
   ]
  },
  {
   "cell_type": "code",
   "execution_count": 19,
   "id": "b587464d",
   "metadata": {},
   "outputs": [
    {
     "data": {
      "text/plain": [
       "array(['Select', 'Potential Lead', nan, 'Other Leads', 'Lateral Student',\n",
       "       'Dual Specialization Student', 'Student of SomeSchool'],\n",
       "      dtype=object)"
      ]
     },
     "execution_count": 19,
     "metadata": {},
     "output_type": "execute_result"
    }
   ],
   "source": [
    "data['Lead Profile'].unique()"
   ]
  },
  {
   "cell_type": "code",
   "execution_count": 20,
   "id": "ca3e7379",
   "metadata": {},
   "outputs": [
    {
     "data": {
      "text/plain": [
       "array([15., 14., 13., 17., 16., 11., 12., 10.,  9.,  8., 18., nan,  7.])"
      ]
     },
     "execution_count": 20,
     "metadata": {},
     "output_type": "execute_result"
    }
   ],
   "source": [
    "data['Asymmetrique Activity Score'].unique()"
   ]
  },
  {
   "cell_type": "code",
   "execution_count": 21,
   "id": "4d6d192f",
   "metadata": {},
   "outputs": [
    {
     "data": {
      "text/plain": [
       "array([15., 20., 17., 18., 14., 16., 13., 19., 12., nan, 11.])"
      ]
     },
     "execution_count": 21,
     "metadata": {},
     "output_type": "execute_result"
    }
   ],
   "source": [
    "data['Asymmetrique Profile Score'].unique()"
   ]
  },
  {
   "cell_type": "code",
   "execution_count": 22,
   "id": "b528520f",
   "metadata": {},
   "outputs": [
    {
     "data": {
      "text/plain": [
       "array(['02.Medium', '01.High', '03.Low', nan], dtype=object)"
      ]
     },
     "execution_count": 22,
     "metadata": {},
     "output_type": "execute_result"
    }
   ],
   "source": [
    "data['Asymmetrique Activity Index'].unique()"
   ]
  },
  {
   "cell_type": "code",
   "execution_count": 23,
   "id": "8c7a2667",
   "metadata": {},
   "outputs": [
    {
     "data": {
      "text/plain": [
       "array(['02.Medium', '01.High', '03.Low', nan], dtype=object)"
      ]
     },
     "execution_count": 23,
     "metadata": {},
     "output_type": "execute_result"
    }
   ],
   "source": [
    "data['Asymmetrique Profile Index'].unique()"
   ]
  },
  {
   "cell_type": "code",
   "execution_count": 24,
   "id": "e704f945",
   "metadata": {},
   "outputs": [
    {
     "data": {
      "text/html": [
       "<div>\n",
       "<style scoped>\n",
       "    .dataframe tbody tr th:only-of-type {\n",
       "        vertical-align: middle;\n",
       "    }\n",
       "\n",
       "    .dataframe tbody tr th {\n",
       "        vertical-align: top;\n",
       "    }\n",
       "\n",
       "    .dataframe thead th {\n",
       "        text-align: right;\n",
       "    }\n",
       "</style>\n",
       "<table border=\"1\" class=\"dataframe\">\n",
       "  <thead>\n",
       "    <tr style=\"text-align: right;\">\n",
       "      <th></th>\n",
       "      <th>Prospect ID</th>\n",
       "      <th>Lead Number</th>\n",
       "      <th>Lead Origin</th>\n",
       "      <th>Lead Source</th>\n",
       "      <th>Do Not Email</th>\n",
       "      <th>Do Not Call</th>\n",
       "      <th>Converted</th>\n",
       "      <th>TotalVisits</th>\n",
       "      <th>Total Time Spent on Website</th>\n",
       "      <th>Page Views Per Visit</th>\n",
       "      <th>...</th>\n",
       "      <th>Get updates on DM Content</th>\n",
       "      <th>Lead Profile</th>\n",
       "      <th>City</th>\n",
       "      <th>Asymmetrique Activity Index</th>\n",
       "      <th>Asymmetrique Profile Index</th>\n",
       "      <th>Asymmetrique Activity Score</th>\n",
       "      <th>Asymmetrique Profile Score</th>\n",
       "      <th>I agree to pay the amount through cheque</th>\n",
       "      <th>A free copy of Mastering The Interview</th>\n",
       "      <th>Last Notable Activity</th>\n",
       "    </tr>\n",
       "  </thead>\n",
       "  <tbody>\n",
       "  </tbody>\n",
       "</table>\n",
       "<p>0 rows × 37 columns</p>\n",
       "</div>"
      ],
      "text/plain": [
       "Empty DataFrame\n",
       "Columns: [Prospect ID, Lead Number, Lead Origin, Lead Source, Do Not Email, Do Not Call, Converted, TotalVisits, Total Time Spent on Website, Page Views Per Visit, Last Activity, Country, Specialization, How did you hear about Madugital, What is your current occupation, What matters most to you in choosing a product, Search, Magazine, Newspaper Article, Madugital Telegram, Newspaper, Digital Advertisement, Through Recommendations, Receive More Updates About Our Products, Tags, Lead Quality, Update me on Supply Chain Content, Get updates on DM Content, Lead Profile, City, Asymmetrique Activity Index, Asymmetrique Profile Index, Asymmetrique Activity Score, Asymmetrique Profile Score, I agree to pay the amount through cheque, A free copy of Mastering The Interview, Last Notable Activity]\n",
       "Index: []\n",
       "\n",
       "[0 rows x 37 columns]"
      ]
     },
     "execution_count": 24,
     "metadata": {},
     "output_type": "execute_result"
    }
   ],
   "source": [
    "data.loc[data['Prospect ID'].duplicated()]"
   ]
  },
  {
   "cell_type": "code",
   "execution_count": 25,
   "id": "53803586",
   "metadata": {},
   "outputs": [
    {
     "data": {
      "text/plain": [
       "0"
      ]
     },
     "execution_count": 25,
     "metadata": {},
     "output_type": "execute_result"
    }
   ],
   "source": [
    "data.duplicated().sum()"
   ]
  },
  {
   "cell_type": "markdown",
   "id": "6c4b4f9f",
   "metadata": {},
   "source": [
    "### Handling Missing Value\n",
    "Fill the missing value and replace the mistype data"
   ]
  },
  {
   "cell_type": "code",
   "execution_count": 26,
   "id": "dc77ebf8",
   "metadata": {},
   "outputs": [],
   "source": [
    "data_dropped=data.copy()"
   ]
  },
  {
   "cell_type": "code",
   "execution_count": 27,
   "id": "4ebcda8b",
   "metadata": {},
   "outputs": [],
   "source": [
    "data_dropped['Lead Source']=data_dropped['Lead Source'].replace('google','Google')"
   ]
  },
  {
   "cell_type": "code",
   "execution_count": 28,
   "id": "36d3efc2",
   "metadata": {},
   "outputs": [],
   "source": [
    "data_dropped['Lead Source']=data_dropped['Lead Source'].replace('Facebook','Social Media')"
   ]
  },
  {
   "cell_type": "code",
   "execution_count": 29,
   "id": "0361ed03",
   "metadata": {},
   "outputs": [],
   "source": [
    "data_dropped['Lead Source']=data_dropped['Lead Source'].replace('welearnblog_Home','blog')"
   ]
  },
  {
   "cell_type": "code",
   "execution_count": 30,
   "id": "05c70f23",
   "metadata": {},
   "outputs": [],
   "source": [
    "data_dropped['Lead Source']=data_dropped['Lead Source'].fillna('Unknown')"
   ]
  },
  {
   "cell_type": "code",
   "execution_count": 31,
   "id": "7b0173bc",
   "metadata": {},
   "outputs": [],
   "source": [
    "data_dropped['TotalVisits']=data_dropped['TotalVisits'].fillna(data_dropped['TotalVisits'].mean())"
   ]
  },
  {
   "cell_type": "code",
   "execution_count": 32,
   "id": "b5f40991",
   "metadata": {},
   "outputs": [],
   "source": [
    "data_dropped['Page Views Per Visit']=data_dropped['Page Views Per Visit'].fillna(data_dropped['Page Views Per Visit'].mean())"
   ]
  },
  {
   "cell_type": "code",
   "execution_count": 33,
   "id": "39e0eb41",
   "metadata": {},
   "outputs": [],
   "source": [
    "data_dropped['Country']=data_dropped['Country'].fillna('unknown')"
   ]
  },
  {
   "cell_type": "code",
   "execution_count": 34,
   "id": "69829ee0",
   "metadata": {},
   "outputs": [],
   "source": [
    "data_dropped['Specialization']=data_dropped['Specialization'].fillna('Select')"
   ]
  },
  {
   "cell_type": "code",
   "execution_count": 35,
   "id": "f2139d0d",
   "metadata": {},
   "outputs": [],
   "source": [
    "data_dropped['How did you hear about Madugital']=data_dropped['How did you hear about Madugital'].fillna('Select')"
   ]
  },
  {
   "cell_type": "code",
   "execution_count": 36,
   "id": "2d93c3ec",
   "metadata": {},
   "outputs": [],
   "source": [
    "data_dropped['What is your current occupation']=data_dropped['What is your current occupation'].fillna('Unknown')"
   ]
  },
  {
   "cell_type": "code",
   "execution_count": 37,
   "id": "8e537f75",
   "metadata": {},
   "outputs": [],
   "source": [
    "data_dropped['What matters most to you in choosing a product']=data_dropped['What matters most to you in choosing a product'].fillna('Unknown')"
   ]
  },
  {
   "cell_type": "code",
   "execution_count": 38,
   "id": "97c7e5e4",
   "metadata": {},
   "outputs": [],
   "source": [
    "data_dropped['Tags']=data_dropped['Tags'].fillna('Unknown')"
   ]
  },
  {
   "cell_type": "code",
   "execution_count": 39,
   "id": "a8811dc2",
   "metadata": {},
   "outputs": [],
   "source": [
    "data_dropped['Lead Quality']=data_dropped['Lead Quality'].fillna('Unknown')"
   ]
  },
  {
   "cell_type": "code",
   "execution_count": 40,
   "id": "2d0a3f48",
   "metadata": {},
   "outputs": [],
   "source": [
    "data_dropped['Lead Profile']=data_dropped['Lead Profile'].fillna('Select')"
   ]
  },
  {
   "cell_type": "code",
   "execution_count": 41,
   "id": "b25d578d",
   "metadata": {},
   "outputs": [],
   "source": [
    "data_dropped['Asymmetrique Activity Score']=data_dropped['Asymmetrique Activity Score'].fillna(data_dropped['Asymmetrique Activity Score'].mean())"
   ]
  },
  {
   "cell_type": "code",
   "execution_count": 42,
   "id": "e904a9c2",
   "metadata": {},
   "outputs": [],
   "source": [
    "data_dropped['Asymmetrique Profile Score']=data_dropped['Asymmetrique Profile Score'].fillna(data_dropped['Asymmetrique Profile Score'].mean())"
   ]
  },
  {
   "cell_type": "code",
   "execution_count": 43,
   "id": "5d5a8e4d",
   "metadata": {},
   "outputs": [],
   "source": [
    "data_dropped['Asymmetrique Activity Index']=data_dropped['Asymmetrique Activity Index'].fillna('Unknown')"
   ]
  },
  {
   "cell_type": "code",
   "execution_count": 44,
   "id": "294023a8",
   "metadata": {},
   "outputs": [],
   "source": [
    "data_dropped['Asymmetrique Profile Index']=data_dropped['Asymmetrique Profile Index'].fillna('Unknown')"
   ]
  },
  {
   "cell_type": "code",
   "execution_count": 45,
   "id": "f33370bc",
   "metadata": {},
   "outputs": [
    {
     "data": {
      "text/plain": [
       "Prospect ID                                        0.000000\n",
       "Lead Number                                        0.000000\n",
       "Lead Origin                                        0.000000\n",
       "Lead Source                                        0.000000\n",
       "Do Not Email                                       0.000000\n",
       "Do Not Call                                        0.000000\n",
       "Converted                                          0.000000\n",
       "TotalVisits                                        0.000000\n",
       "Total Time Spent on Website                        0.000000\n",
       "Page Views Per Visit                               0.000000\n",
       "Last Activity                                      1.114719\n",
       "Country                                            0.000000\n",
       "Specialization                                     0.000000\n",
       "How did you hear about Madugital                   0.000000\n",
       "What is your current occupation                    0.000000\n",
       "What matters most to you in choosing a product     0.000000\n",
       "Search                                             0.000000\n",
       "Magazine                                           0.000000\n",
       "Newspaper Article                                  0.000000\n",
       "Madugital Telegram                                 0.000000\n",
       "Newspaper                                          0.000000\n",
       "Digital Advertisement                              0.000000\n",
       "Through Recommendations                            0.000000\n",
       "Receive More Updates About Our Products            0.000000\n",
       "Tags                                               0.000000\n",
       "Lead Quality                                       0.000000\n",
       "Update me on Supply Chain Content                  0.000000\n",
       "Get updates on DM Content                          0.000000\n",
       "Lead Profile                                       0.000000\n",
       "City                                              15.367965\n",
       "Asymmetrique Activity Index                        0.000000\n",
       "Asymmetrique Profile Index                         0.000000\n",
       "Asymmetrique Activity Score                        0.000000\n",
       "Asymmetrique Profile Score                         0.000000\n",
       "I agree to pay the amount through cheque           0.000000\n",
       "A free copy of Mastering The Interview             0.000000\n",
       "Last Notable Activity                              0.000000\n",
       "dtype: float64"
      ]
     },
     "execution_count": 45,
     "metadata": {},
     "output_type": "execute_result"
    }
   ],
   "source": [
    "data_dropped.isna().mean() * 100"
   ]
  },
  {
   "cell_type": "markdown",
   "id": "00b13276",
   "metadata": {},
   "source": [
    "The related variables or columns now have been filled."
   ]
  },
  {
   "cell_type": "markdown",
   "id": "6abb2b10",
   "metadata": {},
   "source": [
    "## 2. Finding Data Insight \n",
    "Calculating the aggregate data based on a column and the correlation between two variables"
   ]
  },
  {
   "cell_type": "code",
   "execution_count": 46,
   "id": "5131dbf5",
   "metadata": {},
   "outputs": [
    {
     "data": {
      "text/html": [
       "<div>\n",
       "<style scoped>\n",
       "    .dataframe tbody tr th:only-of-type {\n",
       "        vertical-align: middle;\n",
       "    }\n",
       "\n",
       "    .dataframe tbody tr th {\n",
       "        vertical-align: top;\n",
       "    }\n",
       "\n",
       "    .dataframe thead th {\n",
       "        text-align: right;\n",
       "    }\n",
       "</style>\n",
       "<table border=\"1\" class=\"dataframe\">\n",
       "  <thead>\n",
       "    <tr style=\"text-align: right;\">\n",
       "      <th></th>\n",
       "      <th>TotalVisits</th>\n",
       "    </tr>\n",
       "    <tr>\n",
       "      <th>Converted</th>\n",
       "      <th></th>\n",
       "    </tr>\n",
       "  </thead>\n",
       "  <tbody>\n",
       "    <tr>\n",
       "      <th>0</th>\n",
       "      <td>3.330423</td>\n",
       "    </tr>\n",
       "    <tr>\n",
       "      <th>1</th>\n",
       "      <td>3.628341</td>\n",
       "    </tr>\n",
       "  </tbody>\n",
       "</table>\n",
       "</div>"
      ],
      "text/plain": [
       "           TotalVisits\n",
       "Converted             \n",
       "0             3.330423\n",
       "1             3.628341"
      ]
     },
     "execution_count": 46,
     "metadata": {},
     "output_type": "execute_result"
    }
   ],
   "source": [
    "data_dropped.groupby('Converted').mean()[['TotalVisits']]"
   ]
  },
  {
   "cell_type": "code",
   "execution_count": 47,
   "id": "2ccf802e",
   "metadata": {},
   "outputs": [
    {
     "data": {
      "text/html": [
       "<div>\n",
       "<style scoped>\n",
       "    .dataframe tbody tr th:only-of-type {\n",
       "        vertical-align: middle;\n",
       "    }\n",
       "\n",
       "    .dataframe tbody tr th {\n",
       "        vertical-align: top;\n",
       "    }\n",
       "\n",
       "    .dataframe thead th {\n",
       "        text-align: right;\n",
       "    }\n",
       "</style>\n",
       "<table border=\"1\" class=\"dataframe\">\n",
       "  <thead>\n",
       "    <tr style=\"text-align: right;\">\n",
       "      <th></th>\n",
       "      <th>Page Views Per Visit</th>\n",
       "    </tr>\n",
       "    <tr>\n",
       "      <th>Converted</th>\n",
       "      <th></th>\n",
       "    </tr>\n",
       "  </thead>\n",
       "  <tbody>\n",
       "    <tr>\n",
       "      <th>0</th>\n",
       "      <td>2.368416</td>\n",
       "    </tr>\n",
       "    <tr>\n",
       "      <th>1</th>\n",
       "      <td>2.353896</td>\n",
       "    </tr>\n",
       "  </tbody>\n",
       "</table>\n",
       "</div>"
      ],
      "text/plain": [
       "           Page Views Per Visit\n",
       "Converted                      \n",
       "0                      2.368416\n",
       "1                      2.353896"
      ]
     },
     "execution_count": 47,
     "metadata": {},
     "output_type": "execute_result"
    }
   ],
   "source": [
    "data_dropped.groupby('Converted').mean()[['Page Views Per Visit']]"
   ]
  },
  {
   "cell_type": "code",
   "execution_count": 48,
   "id": "4b809855",
   "metadata": {},
   "outputs": [
    {
     "data": {
      "text/html": [
       "<div>\n",
       "<style scoped>\n",
       "    .dataframe tbody tr th:only-of-type {\n",
       "        vertical-align: middle;\n",
       "    }\n",
       "\n",
       "    .dataframe tbody tr th {\n",
       "        vertical-align: top;\n",
       "    }\n",
       "\n",
       "    .dataframe thead th {\n",
       "        text-align: right;\n",
       "    }\n",
       "</style>\n",
       "<table border=\"1\" class=\"dataframe\">\n",
       "  <thead>\n",
       "    <tr style=\"text-align: right;\">\n",
       "      <th></th>\n",
       "      <th>Total Time Spent on Website</th>\n",
       "    </tr>\n",
       "    <tr>\n",
       "      <th>Converted</th>\n",
       "      <th></th>\n",
       "    </tr>\n",
       "  </thead>\n",
       "  <tbody>\n",
       "    <tr>\n",
       "      <th>0</th>\n",
       "      <td>330.404473</td>\n",
       "    </tr>\n",
       "    <tr>\n",
       "      <th>1</th>\n",
       "      <td>738.546757</td>\n",
       "    </tr>\n",
       "  </tbody>\n",
       "</table>\n",
       "</div>"
      ],
      "text/plain": [
       "           Total Time Spent on Website\n",
       "Converted                             \n",
       "0                           330.404473\n",
       "1                           738.546757"
      ]
     },
     "execution_count": 48,
     "metadata": {},
     "output_type": "execute_result"
    }
   ],
   "source": [
    "data_dropped.groupby('Converted').mean()[['Total Time Spent on Website']]"
   ]
  },
  {
   "cell_type": "code",
   "execution_count": 49,
   "id": "c35ac6c2",
   "metadata": {},
   "outputs": [
    {
     "data": {
      "text/html": [
       "<div>\n",
       "<style scoped>\n",
       "    .dataframe tbody tr th:only-of-type {\n",
       "        vertical-align: middle;\n",
       "    }\n",
       "\n",
       "    .dataframe tbody tr th {\n",
       "        vertical-align: top;\n",
       "    }\n",
       "\n",
       "    .dataframe thead th {\n",
       "        text-align: right;\n",
       "    }\n",
       "</style>\n",
       "<table border=\"1\" class=\"dataframe\">\n",
       "  <thead>\n",
       "    <tr style=\"text-align: right;\">\n",
       "      <th></th>\n",
       "      <th>Asymmetrique Profile Score</th>\n",
       "    </tr>\n",
       "    <tr>\n",
       "      <th>Converted</th>\n",
       "      <th></th>\n",
       "    </tr>\n",
       "  </thead>\n",
       "  <tbody>\n",
       "    <tr>\n",
       "      <th>0</th>\n",
       "      <td>16.174965</td>\n",
       "    </tr>\n",
       "    <tr>\n",
       "      <th>1</th>\n",
       "      <td>16.615864</td>\n",
       "    </tr>\n",
       "  </tbody>\n",
       "</table>\n",
       "</div>"
      ],
      "text/plain": [
       "           Asymmetrique Profile Score\n",
       "Converted                            \n",
       "0                           16.174965\n",
       "1                           16.615864"
      ]
     },
     "execution_count": 49,
     "metadata": {},
     "output_type": "execute_result"
    }
   ],
   "source": [
    "data_dropped.groupby('Converted').mean()[['Asymmetrique Profile Score']]"
   ]
  },
  {
   "cell_type": "code",
   "execution_count": 50,
   "id": "0976a73a",
   "metadata": {},
   "outputs": [
    {
     "data": {
      "text/html": [
       "<div>\n",
       "<style scoped>\n",
       "    .dataframe tbody tr th:only-of-type {\n",
       "        vertical-align: middle;\n",
       "    }\n",
       "\n",
       "    .dataframe tbody tr th {\n",
       "        vertical-align: top;\n",
       "    }\n",
       "\n",
       "    .dataframe thead th {\n",
       "        text-align: right;\n",
       "    }\n",
       "</style>\n",
       "<table border=\"1\" class=\"dataframe\">\n",
       "  <thead>\n",
       "    <tr style=\"text-align: right;\">\n",
       "      <th></th>\n",
       "      <th>Asymmetrique Activity Score</th>\n",
       "    </tr>\n",
       "    <tr>\n",
       "      <th>Converted</th>\n",
       "      <th></th>\n",
       "    </tr>\n",
       "  </thead>\n",
       "  <tbody>\n",
       "    <tr>\n",
       "      <th>0</th>\n",
       "      <td>14.206293</td>\n",
       "    </tr>\n",
       "    <tr>\n",
       "      <th>1</th>\n",
       "      <td>14.465666</td>\n",
       "    </tr>\n",
       "  </tbody>\n",
       "</table>\n",
       "</div>"
      ],
      "text/plain": [
       "           Asymmetrique Activity Score\n",
       "Converted                             \n",
       "0                            14.206293\n",
       "1                            14.465666"
      ]
     },
     "execution_count": 50,
     "metadata": {},
     "output_type": "execute_result"
    }
   ],
   "source": [
    "data_dropped.groupby('Converted').mean()[['Asymmetrique Activity Score']]"
   ]
  },
  {
   "cell_type": "code",
   "execution_count": 51,
   "id": "dc55d89a",
   "metadata": {},
   "outputs": [
    {
     "data": {
      "text/html": [
       "<div>\n",
       "<style scoped>\n",
       "    .dataframe tbody tr th:only-of-type {\n",
       "        vertical-align: middle;\n",
       "    }\n",
       "\n",
       "    .dataframe tbody tr th {\n",
       "        vertical-align: top;\n",
       "    }\n",
       "\n",
       "    .dataframe thead th {\n",
       "        text-align: right;\n",
       "    }\n",
       "</style>\n",
       "<table border=\"1\" class=\"dataframe\">\n",
       "  <thead>\n",
       "    <tr style=\"text-align: right;\">\n",
       "      <th>Converted</th>\n",
       "      <th>0</th>\n",
       "      <th>1</th>\n",
       "    </tr>\n",
       "    <tr>\n",
       "      <th>What is your current occupation</th>\n",
       "      <th></th>\n",
       "      <th></th>\n",
       "    </tr>\n",
       "  </thead>\n",
       "  <tbody>\n",
       "    <tr>\n",
       "      <th>Businessman</th>\n",
       "      <td>0.000325</td>\n",
       "      <td>0.000541</td>\n",
       "    </tr>\n",
       "    <tr>\n",
       "      <th>Housewife</th>\n",
       "      <td>0.000000</td>\n",
       "      <td>0.001082</td>\n",
       "    </tr>\n",
       "    <tr>\n",
       "      <th>Other</th>\n",
       "      <td>0.000649</td>\n",
       "      <td>0.001082</td>\n",
       "    </tr>\n",
       "    <tr>\n",
       "      <th>Student</th>\n",
       "      <td>0.014286</td>\n",
       "      <td>0.008442</td>\n",
       "    </tr>\n",
       "    <tr>\n",
       "      <th>Unemployed</th>\n",
       "      <td>0.341883</td>\n",
       "      <td>0.264177</td>\n",
       "    </tr>\n",
       "    <tr>\n",
       "      <th>Unknown</th>\n",
       "      <td>0.251082</td>\n",
       "      <td>0.040043</td>\n",
       "    </tr>\n",
       "    <tr>\n",
       "      <th>Working Professional</th>\n",
       "      <td>0.006385</td>\n",
       "      <td>0.070022</td>\n",
       "    </tr>\n",
       "  </tbody>\n",
       "</table>\n",
       "</div>"
      ],
      "text/plain": [
       "Converted                               0         1\n",
       "What is your current occupation                    \n",
       "Businessman                      0.000325  0.000541\n",
       "Housewife                        0.000000  0.001082\n",
       "Other                            0.000649  0.001082\n",
       "Student                          0.014286  0.008442\n",
       "Unemployed                       0.341883  0.264177\n",
       "Unknown                          0.251082  0.040043\n",
       "Working Professional             0.006385  0.070022"
      ]
     },
     "execution_count": 51,
     "metadata": {},
     "output_type": "execute_result"
    }
   ],
   "source": [
    "pd.crosstab(data_dropped['What is your current occupation'],data_dropped['Converted'],normalize=True)"
   ]
  },
  {
   "cell_type": "code",
   "execution_count": 52,
   "id": "663ac040",
   "metadata": {},
   "outputs": [
    {
     "data": {
      "text/html": [
       "<div>\n",
       "<style scoped>\n",
       "    .dataframe tbody tr th:only-of-type {\n",
       "        vertical-align: middle;\n",
       "    }\n",
       "\n",
       "    .dataframe tbody tr th {\n",
       "        vertical-align: top;\n",
       "    }\n",
       "\n",
       "    .dataframe thead th {\n",
       "        text-align: right;\n",
       "    }\n",
       "</style>\n",
       "<table border=\"1\" class=\"dataframe\">\n",
       "  <thead>\n",
       "    <tr style=\"text-align: right;\">\n",
       "      <th>Converted</th>\n",
       "      <th>0</th>\n",
       "      <th>1</th>\n",
       "    </tr>\n",
       "    <tr>\n",
       "      <th>Lead Quality</th>\n",
       "      <th></th>\n",
       "      <th></th>\n",
       "    </tr>\n",
       "  </thead>\n",
       "  <tbody>\n",
       "    <tr>\n",
       "      <th>High in Relevance</th>\n",
       "      <td>0.003680</td>\n",
       "      <td>0.065260</td>\n",
       "    </tr>\n",
       "    <tr>\n",
       "      <th>Low in Relevance</th>\n",
       "      <td>0.011472</td>\n",
       "      <td>0.051623</td>\n",
       "    </tr>\n",
       "    <tr>\n",
       "      <th>Might be</th>\n",
       "      <td>0.041234</td>\n",
       "      <td>0.127597</td>\n",
       "    </tr>\n",
       "    <tr>\n",
       "      <th>Not Sure</th>\n",
       "      <td>0.089394</td>\n",
       "      <td>0.028788</td>\n",
       "    </tr>\n",
       "    <tr>\n",
       "      <th>Unknown</th>\n",
       "      <td>0.405087</td>\n",
       "      <td>0.110823</td>\n",
       "    </tr>\n",
       "    <tr>\n",
       "      <th>Worst</th>\n",
       "      <td>0.063745</td>\n",
       "      <td>0.001299</td>\n",
       "    </tr>\n",
       "  </tbody>\n",
       "</table>\n",
       "</div>"
      ],
      "text/plain": [
       "Converted                 0         1\n",
       "Lead Quality                         \n",
       "High in Relevance  0.003680  0.065260\n",
       "Low in Relevance   0.011472  0.051623\n",
       "Might be           0.041234  0.127597\n",
       "Not Sure           0.089394  0.028788\n",
       "Unknown            0.405087  0.110823\n",
       "Worst              0.063745  0.001299"
      ]
     },
     "execution_count": 52,
     "metadata": {},
     "output_type": "execute_result"
    }
   ],
   "source": [
    "pd.crosstab(data_dropped['Lead Quality'],data_dropped['Converted'],normalize=True)"
   ]
  },
  {
   "cell_type": "code",
   "execution_count": 53,
   "id": "1aeb7315",
   "metadata": {},
   "outputs": [
    {
     "data": {
      "text/html": [
       "<div>\n",
       "<style scoped>\n",
       "    .dataframe tbody tr th:only-of-type {\n",
       "        vertical-align: middle;\n",
       "    }\n",
       "\n",
       "    .dataframe tbody tr th {\n",
       "        vertical-align: top;\n",
       "    }\n",
       "\n",
       "    .dataframe thead th {\n",
       "        text-align: right;\n",
       "    }\n",
       "</style>\n",
       "<table border=\"1\" class=\"dataframe\">\n",
       "  <thead>\n",
       "    <tr style=\"text-align: right;\">\n",
       "      <th>Converted</th>\n",
       "      <th>0</th>\n",
       "      <th>1</th>\n",
       "    </tr>\n",
       "    <tr>\n",
       "      <th>Asymmetrique Profile Index</th>\n",
       "      <th></th>\n",
       "      <th></th>\n",
       "    </tr>\n",
       "  </thead>\n",
       "  <tbody>\n",
       "    <tr>\n",
       "      <th>01.High</th>\n",
       "      <td>0.125325</td>\n",
       "      <td>0.113095</td>\n",
       "    </tr>\n",
       "    <tr>\n",
       "      <th>02.Medium</th>\n",
       "      <td>0.209957</td>\n",
       "      <td>0.091775</td>\n",
       "    </tr>\n",
       "    <tr>\n",
       "      <th>03.Low</th>\n",
       "      <td>0.001732</td>\n",
       "      <td>0.001623</td>\n",
       "    </tr>\n",
       "    <tr>\n",
       "      <th>Unknown</th>\n",
       "      <td>0.277597</td>\n",
       "      <td>0.178896</td>\n",
       "    </tr>\n",
       "  </tbody>\n",
       "</table>\n",
       "</div>"
      ],
      "text/plain": [
       "Converted                          0         1\n",
       "Asymmetrique Profile Index                    \n",
       "01.High                     0.125325  0.113095\n",
       "02.Medium                   0.209957  0.091775\n",
       "03.Low                      0.001732  0.001623\n",
       "Unknown                     0.277597  0.178896"
      ]
     },
     "execution_count": 53,
     "metadata": {},
     "output_type": "execute_result"
    }
   ],
   "source": [
    "pd.crosstab(data_dropped['Asymmetrique Profile Index'],data_dropped['Converted'],normalize=True)"
   ]
  },
  {
   "cell_type": "code",
   "execution_count": 54,
   "id": "4614834f",
   "metadata": {},
   "outputs": [
    {
     "data": {
      "text/html": [
       "<div>\n",
       "<style scoped>\n",
       "    .dataframe tbody tr th:only-of-type {\n",
       "        vertical-align: middle;\n",
       "    }\n",
       "\n",
       "    .dataframe tbody tr th {\n",
       "        vertical-align: top;\n",
       "    }\n",
       "\n",
       "    .dataframe thead th {\n",
       "        text-align: right;\n",
       "    }\n",
       "</style>\n",
       "<table border=\"1\" class=\"dataframe\">\n",
       "  <thead>\n",
       "    <tr style=\"text-align: right;\">\n",
       "      <th>Converted</th>\n",
       "      <th>0</th>\n",
       "      <th>1</th>\n",
       "    </tr>\n",
       "    <tr>\n",
       "      <th>Asymmetrique Activity Index</th>\n",
       "      <th></th>\n",
       "      <th></th>\n",
       "    </tr>\n",
       "  </thead>\n",
       "  <tbody>\n",
       "    <tr>\n",
       "      <th>01.High</th>\n",
       "      <td>0.062338</td>\n",
       "      <td>0.026515</td>\n",
       "    </tr>\n",
       "    <tr>\n",
       "      <th>02.Medium</th>\n",
       "      <td>0.239069</td>\n",
       "      <td>0.176407</td>\n",
       "    </tr>\n",
       "    <tr>\n",
       "      <th>03.Low</th>\n",
       "      <td>0.035606</td>\n",
       "      <td>0.003571</td>\n",
       "    </tr>\n",
       "    <tr>\n",
       "      <th>Unknown</th>\n",
       "      <td>0.277597</td>\n",
       "      <td>0.178896</td>\n",
       "    </tr>\n",
       "  </tbody>\n",
       "</table>\n",
       "</div>"
      ],
      "text/plain": [
       "Converted                           0         1\n",
       "Asymmetrique Activity Index                    \n",
       "01.High                      0.062338  0.026515\n",
       "02.Medium                    0.239069  0.176407\n",
       "03.Low                       0.035606  0.003571\n",
       "Unknown                      0.277597  0.178896"
      ]
     },
     "execution_count": 54,
     "metadata": {},
     "output_type": "execute_result"
    }
   ],
   "source": [
    "pd.crosstab(data_dropped['Asymmetrique Activity Index'],data_dropped['Converted'],normalize=True)"
   ]
  },
  {
   "cell_type": "code",
   "execution_count": 55,
   "id": "3200d1b5",
   "metadata": {
    "scrolled": true
   },
   "outputs": [
    {
     "data": {
      "text/html": [
       "<div>\n",
       "<style scoped>\n",
       "    .dataframe tbody tr th:only-of-type {\n",
       "        vertical-align: middle;\n",
       "    }\n",
       "\n",
       "    .dataframe tbody tr th {\n",
       "        vertical-align: top;\n",
       "    }\n",
       "\n",
       "    .dataframe thead th {\n",
       "        text-align: right;\n",
       "    }\n",
       "</style>\n",
       "<table border=\"1\" class=\"dataframe\">\n",
       "  <thead>\n",
       "    <tr style=\"text-align: right;\">\n",
       "      <th>Converted</th>\n",
       "      <th>0</th>\n",
       "      <th>1</th>\n",
       "    </tr>\n",
       "    <tr>\n",
       "      <th>Tags</th>\n",
       "      <th></th>\n",
       "      <th></th>\n",
       "    </tr>\n",
       "  </thead>\n",
       "  <tbody>\n",
       "    <tr>\n",
       "      <th>Already a student</th>\n",
       "      <td>0.050000</td>\n",
       "      <td>0.000325</td>\n",
       "    </tr>\n",
       "    <tr>\n",
       "      <th>Busy</th>\n",
       "      <td>0.008766</td>\n",
       "      <td>0.011364</td>\n",
       "    </tr>\n",
       "    <tr>\n",
       "      <th>Closed by Horizzon</th>\n",
       "      <td>0.000216</td>\n",
       "      <td>0.038528</td>\n",
       "    </tr>\n",
       "    <tr>\n",
       "      <th>Diploma holder (Not Eligible)</th>\n",
       "      <td>0.006710</td>\n",
       "      <td>0.000108</td>\n",
       "    </tr>\n",
       "    <tr>\n",
       "      <th>Graduation in progress</th>\n",
       "      <td>0.011255</td>\n",
       "      <td>0.000758</td>\n",
       "    </tr>\n",
       "    <tr>\n",
       "      <th>In confusion whether part time or DLP</th>\n",
       "      <td>0.000433</td>\n",
       "      <td>0.000108</td>\n",
       "    </tr>\n",
       "    <tr>\n",
       "      <th>Interested  in full time MBA</th>\n",
       "      <td>0.012338</td>\n",
       "      <td>0.000325</td>\n",
       "    </tr>\n",
       "    <tr>\n",
       "      <th>Interested in Next batch</th>\n",
       "      <td>0.000000</td>\n",
       "      <td>0.000541</td>\n",
       "    </tr>\n",
       "    <tr>\n",
       "      <th>Interested in other courses</th>\n",
       "      <td>0.054113</td>\n",
       "      <td>0.001407</td>\n",
       "    </tr>\n",
       "    <tr>\n",
       "      <th>Lateral student</th>\n",
       "      <td>0.000000</td>\n",
       "      <td>0.000325</td>\n",
       "    </tr>\n",
       "    <tr>\n",
       "      <th>Lost to EINS</th>\n",
       "      <td>0.000433</td>\n",
       "      <td>0.018506</td>\n",
       "    </tr>\n",
       "    <tr>\n",
       "      <th>Lost to Others</th>\n",
       "      <td>0.000758</td>\n",
       "      <td>0.000000</td>\n",
       "    </tr>\n",
       "    <tr>\n",
       "      <th>Not doing further education</th>\n",
       "      <td>0.015584</td>\n",
       "      <td>0.000108</td>\n",
       "    </tr>\n",
       "    <tr>\n",
       "      <th>Recognition issue (DEC approval)</th>\n",
       "      <td>0.000108</td>\n",
       "      <td>0.000000</td>\n",
       "    </tr>\n",
       "    <tr>\n",
       "      <th>Ringing</th>\n",
       "      <td>0.126515</td>\n",
       "      <td>0.003680</td>\n",
       "    </tr>\n",
       "    <tr>\n",
       "      <th>Shall take in the next coming month</th>\n",
       "      <td>0.000108</td>\n",
       "      <td>0.000108</td>\n",
       "    </tr>\n",
       "    <tr>\n",
       "      <th>Still Thinking</th>\n",
       "      <td>0.000541</td>\n",
       "      <td>0.000108</td>\n",
       "    </tr>\n",
       "    <tr>\n",
       "      <th>University not recognized</th>\n",
       "      <td>0.000216</td>\n",
       "      <td>0.000000</td>\n",
       "    </tr>\n",
       "    <tr>\n",
       "      <th>Unknown</th>\n",
       "      <td>0.272403</td>\n",
       "      <td>0.090476</td>\n",
       "    </tr>\n",
       "    <tr>\n",
       "      <th>Want to take admission but has financial problems</th>\n",
       "      <td>0.000433</td>\n",
       "      <td>0.000216</td>\n",
       "    </tr>\n",
       "    <tr>\n",
       "      <th>Will revert after reading the email</th>\n",
       "      <td>0.007035</td>\n",
       "      <td>0.217208</td>\n",
       "    </tr>\n",
       "    <tr>\n",
       "      <th>in touch with EINS</th>\n",
       "      <td>0.000974</td>\n",
       "      <td>0.000325</td>\n",
       "    </tr>\n",
       "    <tr>\n",
       "      <th>invalid number</th>\n",
       "      <td>0.008874</td>\n",
       "      <td>0.000108</td>\n",
       "    </tr>\n",
       "    <tr>\n",
       "      <th>number not provided</th>\n",
       "      <td>0.002922</td>\n",
       "      <td>0.000000</td>\n",
       "    </tr>\n",
       "    <tr>\n",
       "      <th>opp hangup</th>\n",
       "      <td>0.003247</td>\n",
       "      <td>0.000325</td>\n",
       "    </tr>\n",
       "    <tr>\n",
       "      <th>switched off</th>\n",
       "      <td>0.025541</td>\n",
       "      <td>0.000433</td>\n",
       "    </tr>\n",
       "    <tr>\n",
       "      <th>wrong number given</th>\n",
       "      <td>0.005087</td>\n",
       "      <td>0.000000</td>\n",
       "    </tr>\n",
       "  </tbody>\n",
       "</table>\n",
       "</div>"
      ],
      "text/plain": [
       "Converted                                                 0         1\n",
       "Tags                                                                 \n",
       "Already a student                                  0.050000  0.000325\n",
       "Busy                                               0.008766  0.011364\n",
       "Closed by Horizzon                                 0.000216  0.038528\n",
       "Diploma holder (Not Eligible)                      0.006710  0.000108\n",
       "Graduation in progress                             0.011255  0.000758\n",
       "In confusion whether part time or DLP              0.000433  0.000108\n",
       "Interested  in full time MBA                       0.012338  0.000325\n",
       "Interested in Next batch                           0.000000  0.000541\n",
       "Interested in other courses                        0.054113  0.001407\n",
       "Lateral student                                    0.000000  0.000325\n",
       "Lost to EINS                                       0.000433  0.018506\n",
       "Lost to Others                                     0.000758  0.000000\n",
       "Not doing further education                        0.015584  0.000108\n",
       "Recognition issue (DEC approval)                   0.000108  0.000000\n",
       "Ringing                                            0.126515  0.003680\n",
       "Shall take in the next coming month                0.000108  0.000108\n",
       "Still Thinking                                     0.000541  0.000108\n",
       "University not recognized                          0.000216  0.000000\n",
       "Unknown                                            0.272403  0.090476\n",
       "Want to take admission but has financial problems  0.000433  0.000216\n",
       "Will revert after reading the email                0.007035  0.217208\n",
       "in touch with EINS                                 0.000974  0.000325\n",
       "invalid number                                     0.008874  0.000108\n",
       "number not provided                                0.002922  0.000000\n",
       "opp hangup                                         0.003247  0.000325\n",
       "switched off                                       0.025541  0.000433\n",
       "wrong number given                                 0.005087  0.000000"
      ]
     },
     "execution_count": 55,
     "metadata": {},
     "output_type": "execute_result"
    }
   ],
   "source": [
    "pd.crosstab(data_dropped['Tags'],data_dropped['Converted'],normalize=True)"
   ]
  },
  {
   "cell_type": "code",
   "execution_count": 56,
   "id": "b62ac809",
   "metadata": {},
   "outputs": [
    {
     "data": {
      "text/html": [
       "<div>\n",
       "<style scoped>\n",
       "    .dataframe tbody tr th:only-of-type {\n",
       "        vertical-align: middle;\n",
       "    }\n",
       "\n",
       "    .dataframe tbody tr th {\n",
       "        vertical-align: top;\n",
       "    }\n",
       "\n",
       "    .dataframe thead th {\n",
       "        text-align: right;\n",
       "    }\n",
       "</style>\n",
       "<table border=\"1\" class=\"dataframe\">\n",
       "  <thead>\n",
       "    <tr style=\"text-align: right;\">\n",
       "      <th>Converted</th>\n",
       "      <th>0</th>\n",
       "      <th>1</th>\n",
       "    </tr>\n",
       "    <tr>\n",
       "      <th>Last Notable Activity</th>\n",
       "      <th></th>\n",
       "      <th></th>\n",
       "    </tr>\n",
       "  </thead>\n",
       "  <tbody>\n",
       "    <tr>\n",
       "      <th>Approached upfront</th>\n",
       "      <td>0.000000</td>\n",
       "      <td>0.000108</td>\n",
       "    </tr>\n",
       "    <tr>\n",
       "      <th>Email Bounced</th>\n",
       "      <td>0.005519</td>\n",
       "      <td>0.000974</td>\n",
       "    </tr>\n",
       "    <tr>\n",
       "      <th>Email Link Clicked</th>\n",
       "      <td>0.013853</td>\n",
       "      <td>0.004870</td>\n",
       "    </tr>\n",
       "    <tr>\n",
       "      <th>Email Marked Spam</th>\n",
       "      <td>0.000000</td>\n",
       "      <td>0.000216</td>\n",
       "    </tr>\n",
       "    <tr>\n",
       "      <th>Email Opened</th>\n",
       "      <td>0.192965</td>\n",
       "      <td>0.112987</td>\n",
       "    </tr>\n",
       "    <tr>\n",
       "      <th>Email Received</th>\n",
       "      <td>0.000000</td>\n",
       "      <td>0.000108</td>\n",
       "    </tr>\n",
       "    <tr>\n",
       "      <th>Form Submitted on Website</th>\n",
       "      <td>0.000108</td>\n",
       "      <td>0.000000</td>\n",
       "    </tr>\n",
       "    <tr>\n",
       "      <th>Had a Phone Conversation</th>\n",
       "      <td>0.000108</td>\n",
       "      <td>0.001407</td>\n",
       "    </tr>\n",
       "    <tr>\n",
       "      <th>Modified</th>\n",
       "      <td>0.283983</td>\n",
       "      <td>0.084740</td>\n",
       "    </tr>\n",
       "    <tr>\n",
       "      <th>Olark Chat Conversation</th>\n",
       "      <td>0.017100</td>\n",
       "      <td>0.002706</td>\n",
       "    </tr>\n",
       "    <tr>\n",
       "      <th>Page Visited on Website</th>\n",
       "      <td>0.024351</td>\n",
       "      <td>0.010065</td>\n",
       "    </tr>\n",
       "    <tr>\n",
       "      <th>Resubscribed to emails</th>\n",
       "      <td>0.000000</td>\n",
       "      <td>0.000108</td>\n",
       "    </tr>\n",
       "    <tr>\n",
       "      <th>SMS Sent</th>\n",
       "      <td>0.071861</td>\n",
       "      <td>0.163203</td>\n",
       "    </tr>\n",
       "    <tr>\n",
       "      <th>Unreachable</th>\n",
       "      <td>0.001082</td>\n",
       "      <td>0.002381</td>\n",
       "    </tr>\n",
       "    <tr>\n",
       "      <th>Unsubscribed</th>\n",
       "      <td>0.003571</td>\n",
       "      <td>0.001515</td>\n",
       "    </tr>\n",
       "    <tr>\n",
       "      <th>View in browser link Clicked</th>\n",
       "      <td>0.000108</td>\n",
       "      <td>0.000000</td>\n",
       "    </tr>\n",
       "  </tbody>\n",
       "</table>\n",
       "</div>"
      ],
      "text/plain": [
       "Converted                            0         1\n",
       "Last Notable Activity                           \n",
       "Approached upfront            0.000000  0.000108\n",
       "Email Bounced                 0.005519  0.000974\n",
       "Email Link Clicked            0.013853  0.004870\n",
       "Email Marked Spam             0.000000  0.000216\n",
       "Email Opened                  0.192965  0.112987\n",
       "Email Received                0.000000  0.000108\n",
       "Form Submitted on Website     0.000108  0.000000\n",
       "Had a Phone Conversation      0.000108  0.001407\n",
       "Modified                      0.283983  0.084740\n",
       "Olark Chat Conversation       0.017100  0.002706\n",
       "Page Visited on Website       0.024351  0.010065\n",
       "Resubscribed to emails        0.000000  0.000108\n",
       "SMS Sent                      0.071861  0.163203\n",
       "Unreachable                   0.001082  0.002381\n",
       "Unsubscribed                  0.003571  0.001515\n",
       "View in browser link Clicked  0.000108  0.000000"
      ]
     },
     "execution_count": 56,
     "metadata": {},
     "output_type": "execute_result"
    }
   ],
   "source": [
    "pd.crosstab(data_dropped['Last Notable Activity'],data_dropped['Converted'],normalize=True)"
   ]
  },
  {
   "cell_type": "code",
   "execution_count": 57,
   "id": "9aa7cfb9",
   "metadata": {},
   "outputs": [
    {
     "data": {
      "text/html": [
       "<div>\n",
       "<style scoped>\n",
       "    .dataframe tbody tr th:only-of-type {\n",
       "        vertical-align: middle;\n",
       "    }\n",
       "\n",
       "    .dataframe tbody tr th {\n",
       "        vertical-align: top;\n",
       "    }\n",
       "\n",
       "    .dataframe thead th {\n",
       "        text-align: right;\n",
       "    }\n",
       "</style>\n",
       "<table border=\"1\" class=\"dataframe\">\n",
       "  <thead>\n",
       "    <tr style=\"text-align: right;\">\n",
       "      <th>Converted</th>\n",
       "      <th>0</th>\n",
       "      <th>1</th>\n",
       "    </tr>\n",
       "    <tr>\n",
       "      <th>Do Not Email</th>\n",
       "      <th></th>\n",
       "      <th></th>\n",
       "    </tr>\n",
       "  </thead>\n",
       "  <tbody>\n",
       "    <tr>\n",
       "      <th>No</th>\n",
       "      <td>0.547944</td>\n",
       "      <td>0.372619</td>\n",
       "    </tr>\n",
       "    <tr>\n",
       "      <th>Yes</th>\n",
       "      <td>0.066667</td>\n",
       "      <td>0.012771</td>\n",
       "    </tr>\n",
       "  </tbody>\n",
       "</table>\n",
       "</div>"
      ],
      "text/plain": [
       "Converted            0         1\n",
       "Do Not Email                    \n",
       "No            0.547944  0.372619\n",
       "Yes           0.066667  0.012771"
      ]
     },
     "execution_count": 57,
     "metadata": {},
     "output_type": "execute_result"
    }
   ],
   "source": [
    "pd.crosstab(data_dropped['Do Not Email'],data_dropped['Converted'],normalize=True)"
   ]
  },
  {
   "cell_type": "code",
   "execution_count": 58,
   "id": "bb94864b",
   "metadata": {},
   "outputs": [
    {
     "data": {
      "text/html": [
       "<div>\n",
       "<style scoped>\n",
       "    .dataframe tbody tr th:only-of-type {\n",
       "        vertical-align: middle;\n",
       "    }\n",
       "\n",
       "    .dataframe tbody tr th {\n",
       "        vertical-align: top;\n",
       "    }\n",
       "\n",
       "    .dataframe thead th {\n",
       "        text-align: right;\n",
       "    }\n",
       "</style>\n",
       "<table border=\"1\" class=\"dataframe\">\n",
       "  <thead>\n",
       "    <tr style=\"text-align: right;\">\n",
       "      <th>Converted</th>\n",
       "      <th>0</th>\n",
       "      <th>1</th>\n",
       "    </tr>\n",
       "    <tr>\n",
       "      <th>Do Not Call</th>\n",
       "      <th></th>\n",
       "      <th></th>\n",
       "    </tr>\n",
       "  </thead>\n",
       "  <tbody>\n",
       "    <tr>\n",
       "      <th>No</th>\n",
       "      <td>0.61461</td>\n",
       "      <td>0.385173</td>\n",
       "    </tr>\n",
       "    <tr>\n",
       "      <th>Yes</th>\n",
       "      <td>0.00000</td>\n",
       "      <td>0.000216</td>\n",
       "    </tr>\n",
       "  </tbody>\n",
       "</table>\n",
       "</div>"
      ],
      "text/plain": [
       "Converted          0         1\n",
       "Do Not Call                   \n",
       "No           0.61461  0.385173\n",
       "Yes          0.00000  0.000216"
      ]
     },
     "execution_count": 58,
     "metadata": {},
     "output_type": "execute_result"
    }
   ],
   "source": [
    "pd.crosstab(data_dropped['Do Not Call'],data_dropped['Converted'],normalize=True)"
   ]
  },
  {
   "cell_type": "code",
   "execution_count": 59,
   "id": "70def35a",
   "metadata": {},
   "outputs": [
    {
     "data": {
      "text/html": [
       "<div>\n",
       "<style scoped>\n",
       "    .dataframe tbody tr th:only-of-type {\n",
       "        vertical-align: middle;\n",
       "    }\n",
       "\n",
       "    .dataframe tbody tr th {\n",
       "        vertical-align: top;\n",
       "    }\n",
       "\n",
       "    .dataframe thead th {\n",
       "        text-align: right;\n",
       "    }\n",
       "</style>\n",
       "<table border=\"1\" class=\"dataframe\">\n",
       "  <thead>\n",
       "    <tr style=\"text-align: right;\">\n",
       "      <th>Converted</th>\n",
       "      <th>0</th>\n",
       "      <th>1</th>\n",
       "    </tr>\n",
       "    <tr>\n",
       "      <th>Lead Source</th>\n",
       "      <th></th>\n",
       "      <th></th>\n",
       "    </tr>\n",
       "  </thead>\n",
       "  <tbody>\n",
       "    <tr>\n",
       "      <th>Click2call</th>\n",
       "      <td>0.000108</td>\n",
       "      <td>0.000325</td>\n",
       "    </tr>\n",
       "    <tr>\n",
       "      <th>Direct Traffic</th>\n",
       "      <td>0.186688</td>\n",
       "      <td>0.088528</td>\n",
       "    </tr>\n",
       "    <tr>\n",
       "      <th>Google</th>\n",
       "      <td>0.186797</td>\n",
       "      <td>0.124134</td>\n",
       "    </tr>\n",
       "    <tr>\n",
       "      <th>Live Chat</th>\n",
       "      <td>0.000000</td>\n",
       "      <td>0.000216</td>\n",
       "    </tr>\n",
       "    <tr>\n",
       "      <th>NC_EDM</th>\n",
       "      <td>0.000000</td>\n",
       "      <td>0.000108</td>\n",
       "    </tr>\n",
       "    <tr>\n",
       "      <th>Olark Chat</th>\n",
       "      <td>0.141450</td>\n",
       "      <td>0.048485</td>\n",
       "    </tr>\n",
       "    <tr>\n",
       "      <th>Organic Search</th>\n",
       "      <td>0.077706</td>\n",
       "      <td>0.047186</td>\n",
       "    </tr>\n",
       "    <tr>\n",
       "      <th>Pay per Click Ads</th>\n",
       "      <td>0.000108</td>\n",
       "      <td>0.000000</td>\n",
       "    </tr>\n",
       "    <tr>\n",
       "      <th>Press_Release</th>\n",
       "      <td>0.000216</td>\n",
       "      <td>0.000000</td>\n",
       "    </tr>\n",
       "    <tr>\n",
       "      <th>Reference</th>\n",
       "      <td>0.004762</td>\n",
       "      <td>0.053030</td>\n",
       "    </tr>\n",
       "    <tr>\n",
       "      <th>Referral Sites</th>\n",
       "      <td>0.010173</td>\n",
       "      <td>0.003355</td>\n",
       "    </tr>\n",
       "    <tr>\n",
       "      <th>Social Media</th>\n",
       "      <td>0.004654</td>\n",
       "      <td>0.001515</td>\n",
       "    </tr>\n",
       "    <tr>\n",
       "      <th>Unknown</th>\n",
       "      <td>0.000758</td>\n",
       "      <td>0.003139</td>\n",
       "    </tr>\n",
       "    <tr>\n",
       "      <th>WeLearn</th>\n",
       "      <td>0.000000</td>\n",
       "      <td>0.000108</td>\n",
       "    </tr>\n",
       "    <tr>\n",
       "      <th>Welingak Website</th>\n",
       "      <td>0.000216</td>\n",
       "      <td>0.015152</td>\n",
       "    </tr>\n",
       "    <tr>\n",
       "      <th>bing</th>\n",
       "      <td>0.000541</td>\n",
       "      <td>0.000108</td>\n",
       "    </tr>\n",
       "    <tr>\n",
       "      <th>blog</th>\n",
       "      <td>0.000216</td>\n",
       "      <td>0.000000</td>\n",
       "    </tr>\n",
       "    <tr>\n",
       "      <th>testone</th>\n",
       "      <td>0.000108</td>\n",
       "      <td>0.000000</td>\n",
       "    </tr>\n",
       "    <tr>\n",
       "      <th>youtubechannel</th>\n",
       "      <td>0.000108</td>\n",
       "      <td>0.000000</td>\n",
       "    </tr>\n",
       "  </tbody>\n",
       "</table>\n",
       "</div>"
      ],
      "text/plain": [
       "Converted                 0         1\n",
       "Lead Source                          \n",
       "Click2call         0.000108  0.000325\n",
       "Direct Traffic     0.186688  0.088528\n",
       "Google             0.186797  0.124134\n",
       "Live Chat          0.000000  0.000216\n",
       "NC_EDM             0.000000  0.000108\n",
       "Olark Chat         0.141450  0.048485\n",
       "Organic Search     0.077706  0.047186\n",
       "Pay per Click Ads  0.000108  0.000000\n",
       "Press_Release      0.000216  0.000000\n",
       "Reference          0.004762  0.053030\n",
       "Referral Sites     0.010173  0.003355\n",
       "Social Media       0.004654  0.001515\n",
       "Unknown            0.000758  0.003139\n",
       "WeLearn            0.000000  0.000108\n",
       "Welingak Website   0.000216  0.015152\n",
       "bing               0.000541  0.000108\n",
       "blog               0.000216  0.000000\n",
       "testone            0.000108  0.000000\n",
       "youtubechannel     0.000108  0.000000"
      ]
     },
     "execution_count": 59,
     "metadata": {},
     "output_type": "execute_result"
    }
   ],
   "source": [
    "pd.crosstab(data_dropped['Lead Source'],data_dropped['Converted'],normalize=True)"
   ]
  },
  {
   "cell_type": "markdown",
   "id": "4e72b714",
   "metadata": {},
   "source": [
    "## 3. Data Manipulation\n",
    "Manipulate data so it can be used in the modelling process"
   ]
  },
  {
   "cell_type": "code",
   "execution_count": 60,
   "id": "5315d029",
   "metadata": {},
   "outputs": [
    {
     "data": {
      "text/html": [
       "<div>\n",
       "<style scoped>\n",
       "    .dataframe tbody tr th:only-of-type {\n",
       "        vertical-align: middle;\n",
       "    }\n",
       "\n",
       "    .dataframe tbody tr th {\n",
       "        vertical-align: top;\n",
       "    }\n",
       "\n",
       "    .dataframe thead th {\n",
       "        text-align: right;\n",
       "    }\n",
       "</style>\n",
       "<table border=\"1\" class=\"dataframe\">\n",
       "  <thead>\n",
       "    <tr style=\"text-align: right;\">\n",
       "      <th></th>\n",
       "      <th>Lead Source_Direct Traffic</th>\n",
       "      <th>Lead Source_Google</th>\n",
       "      <th>Lead Source_Live Chat</th>\n",
       "      <th>Lead Source_NC_EDM</th>\n",
       "      <th>Lead Source_Olark Chat</th>\n",
       "      <th>Lead Source_Organic Search</th>\n",
       "      <th>Lead Source_Pay per Click Ads</th>\n",
       "      <th>Lead Source_Press_Release</th>\n",
       "      <th>Lead Source_Reference</th>\n",
       "      <th>Lead Source_Referral Sites</th>\n",
       "      <th>...</th>\n",
       "      <th>Last Notable Activity_Form Submitted on Website</th>\n",
       "      <th>Last Notable Activity_Had a Phone Conversation</th>\n",
       "      <th>Last Notable Activity_Modified</th>\n",
       "      <th>Last Notable Activity_Olark Chat Conversation</th>\n",
       "      <th>Last Notable Activity_Page Visited on Website</th>\n",
       "      <th>Last Notable Activity_Resubscribed to emails</th>\n",
       "      <th>Last Notable Activity_SMS Sent</th>\n",
       "      <th>Last Notable Activity_Unreachable</th>\n",
       "      <th>Last Notable Activity_Unsubscribed</th>\n",
       "      <th>Last Notable Activity_View in browser link Clicked</th>\n",
       "    </tr>\n",
       "  </thead>\n",
       "  <tbody>\n",
       "    <tr>\n",
       "      <th>0</th>\n",
       "      <td>0</td>\n",
       "      <td>0</td>\n",
       "      <td>0</td>\n",
       "      <td>0</td>\n",
       "      <td>1</td>\n",
       "      <td>0</td>\n",
       "      <td>0</td>\n",
       "      <td>0</td>\n",
       "      <td>0</td>\n",
       "      <td>0</td>\n",
       "      <td>...</td>\n",
       "      <td>0</td>\n",
       "      <td>0</td>\n",
       "      <td>1</td>\n",
       "      <td>0</td>\n",
       "      <td>0</td>\n",
       "      <td>0</td>\n",
       "      <td>0</td>\n",
       "      <td>0</td>\n",
       "      <td>0</td>\n",
       "      <td>0</td>\n",
       "    </tr>\n",
       "    <tr>\n",
       "      <th>1</th>\n",
       "      <td>0</td>\n",
       "      <td>0</td>\n",
       "      <td>0</td>\n",
       "      <td>0</td>\n",
       "      <td>0</td>\n",
       "      <td>1</td>\n",
       "      <td>0</td>\n",
       "      <td>0</td>\n",
       "      <td>0</td>\n",
       "      <td>0</td>\n",
       "      <td>...</td>\n",
       "      <td>0</td>\n",
       "      <td>0</td>\n",
       "      <td>0</td>\n",
       "      <td>0</td>\n",
       "      <td>0</td>\n",
       "      <td>0</td>\n",
       "      <td>0</td>\n",
       "      <td>0</td>\n",
       "      <td>0</td>\n",
       "      <td>0</td>\n",
       "    </tr>\n",
       "    <tr>\n",
       "      <th>2</th>\n",
       "      <td>1</td>\n",
       "      <td>0</td>\n",
       "      <td>0</td>\n",
       "      <td>0</td>\n",
       "      <td>0</td>\n",
       "      <td>0</td>\n",
       "      <td>0</td>\n",
       "      <td>0</td>\n",
       "      <td>0</td>\n",
       "      <td>0</td>\n",
       "      <td>...</td>\n",
       "      <td>0</td>\n",
       "      <td>0</td>\n",
       "      <td>0</td>\n",
       "      <td>0</td>\n",
       "      <td>0</td>\n",
       "      <td>0</td>\n",
       "      <td>0</td>\n",
       "      <td>0</td>\n",
       "      <td>0</td>\n",
       "      <td>0</td>\n",
       "    </tr>\n",
       "    <tr>\n",
       "      <th>3</th>\n",
       "      <td>1</td>\n",
       "      <td>0</td>\n",
       "      <td>0</td>\n",
       "      <td>0</td>\n",
       "      <td>0</td>\n",
       "      <td>0</td>\n",
       "      <td>0</td>\n",
       "      <td>0</td>\n",
       "      <td>0</td>\n",
       "      <td>0</td>\n",
       "      <td>...</td>\n",
       "      <td>0</td>\n",
       "      <td>0</td>\n",
       "      <td>1</td>\n",
       "      <td>0</td>\n",
       "      <td>0</td>\n",
       "      <td>0</td>\n",
       "      <td>0</td>\n",
       "      <td>0</td>\n",
       "      <td>0</td>\n",
       "      <td>0</td>\n",
       "    </tr>\n",
       "    <tr>\n",
       "      <th>4</th>\n",
       "      <td>0</td>\n",
       "      <td>1</td>\n",
       "      <td>0</td>\n",
       "      <td>0</td>\n",
       "      <td>0</td>\n",
       "      <td>0</td>\n",
       "      <td>0</td>\n",
       "      <td>0</td>\n",
       "      <td>0</td>\n",
       "      <td>0</td>\n",
       "      <td>...</td>\n",
       "      <td>0</td>\n",
       "      <td>0</td>\n",
       "      <td>1</td>\n",
       "      <td>0</td>\n",
       "      <td>0</td>\n",
       "      <td>0</td>\n",
       "      <td>0</td>\n",
       "      <td>0</td>\n",
       "      <td>0</td>\n",
       "      <td>0</td>\n",
       "    </tr>\n",
       "    <tr>\n",
       "      <th>...</th>\n",
       "      <td>...</td>\n",
       "      <td>...</td>\n",
       "      <td>...</td>\n",
       "      <td>...</td>\n",
       "      <td>...</td>\n",
       "      <td>...</td>\n",
       "      <td>...</td>\n",
       "      <td>...</td>\n",
       "      <td>...</td>\n",
       "      <td>...</td>\n",
       "      <td>...</td>\n",
       "      <td>...</td>\n",
       "      <td>...</td>\n",
       "      <td>...</td>\n",
       "      <td>...</td>\n",
       "      <td>...</td>\n",
       "      <td>...</td>\n",
       "      <td>...</td>\n",
       "      <td>...</td>\n",
       "      <td>...</td>\n",
       "      <td>...</td>\n",
       "    </tr>\n",
       "    <tr>\n",
       "      <th>9235</th>\n",
       "      <td>1</td>\n",
       "      <td>0</td>\n",
       "      <td>0</td>\n",
       "      <td>0</td>\n",
       "      <td>0</td>\n",
       "      <td>0</td>\n",
       "      <td>0</td>\n",
       "      <td>0</td>\n",
       "      <td>0</td>\n",
       "      <td>0</td>\n",
       "      <td>...</td>\n",
       "      <td>0</td>\n",
       "      <td>0</td>\n",
       "      <td>0</td>\n",
       "      <td>0</td>\n",
       "      <td>0</td>\n",
       "      <td>0</td>\n",
       "      <td>0</td>\n",
       "      <td>0</td>\n",
       "      <td>0</td>\n",
       "      <td>0</td>\n",
       "    </tr>\n",
       "    <tr>\n",
       "      <th>9236</th>\n",
       "      <td>1</td>\n",
       "      <td>0</td>\n",
       "      <td>0</td>\n",
       "      <td>0</td>\n",
       "      <td>0</td>\n",
       "      <td>0</td>\n",
       "      <td>0</td>\n",
       "      <td>0</td>\n",
       "      <td>0</td>\n",
       "      <td>0</td>\n",
       "      <td>...</td>\n",
       "      <td>0</td>\n",
       "      <td>0</td>\n",
       "      <td>0</td>\n",
       "      <td>0</td>\n",
       "      <td>0</td>\n",
       "      <td>0</td>\n",
       "      <td>1</td>\n",
       "      <td>0</td>\n",
       "      <td>0</td>\n",
       "      <td>0</td>\n",
       "    </tr>\n",
       "    <tr>\n",
       "      <th>9237</th>\n",
       "      <td>1</td>\n",
       "      <td>0</td>\n",
       "      <td>0</td>\n",
       "      <td>0</td>\n",
       "      <td>0</td>\n",
       "      <td>0</td>\n",
       "      <td>0</td>\n",
       "      <td>0</td>\n",
       "      <td>0</td>\n",
       "      <td>0</td>\n",
       "      <td>...</td>\n",
       "      <td>0</td>\n",
       "      <td>0</td>\n",
       "      <td>0</td>\n",
       "      <td>0</td>\n",
       "      <td>0</td>\n",
       "      <td>0</td>\n",
       "      <td>1</td>\n",
       "      <td>0</td>\n",
       "      <td>0</td>\n",
       "      <td>0</td>\n",
       "    </tr>\n",
       "    <tr>\n",
       "      <th>9238</th>\n",
       "      <td>0</td>\n",
       "      <td>1</td>\n",
       "      <td>0</td>\n",
       "      <td>0</td>\n",
       "      <td>0</td>\n",
       "      <td>0</td>\n",
       "      <td>0</td>\n",
       "      <td>0</td>\n",
       "      <td>0</td>\n",
       "      <td>0</td>\n",
       "      <td>...</td>\n",
       "      <td>0</td>\n",
       "      <td>0</td>\n",
       "      <td>0</td>\n",
       "      <td>0</td>\n",
       "      <td>0</td>\n",
       "      <td>0</td>\n",
       "      <td>1</td>\n",
       "      <td>0</td>\n",
       "      <td>0</td>\n",
       "      <td>0</td>\n",
       "    </tr>\n",
       "    <tr>\n",
       "      <th>9239</th>\n",
       "      <td>1</td>\n",
       "      <td>0</td>\n",
       "      <td>0</td>\n",
       "      <td>0</td>\n",
       "      <td>0</td>\n",
       "      <td>0</td>\n",
       "      <td>0</td>\n",
       "      <td>0</td>\n",
       "      <td>0</td>\n",
       "      <td>0</td>\n",
       "      <td>...</td>\n",
       "      <td>0</td>\n",
       "      <td>0</td>\n",
       "      <td>1</td>\n",
       "      <td>0</td>\n",
       "      <td>0</td>\n",
       "      <td>0</td>\n",
       "      <td>0</td>\n",
       "      <td>0</td>\n",
       "      <td>0</td>\n",
       "      <td>0</td>\n",
       "    </tr>\n",
       "  </tbody>\n",
       "</table>\n",
       "<p>9240 rows × 151 columns</p>\n",
       "</div>"
      ],
      "text/plain": [
       "      Lead Source_Direct Traffic  Lead Source_Google  Lead Source_Live Chat  \\\n",
       "0                              0                   0                      0   \n",
       "1                              0                   0                      0   \n",
       "2                              1                   0                      0   \n",
       "3                              1                   0                      0   \n",
       "4                              0                   1                      0   \n",
       "...                          ...                 ...                    ...   \n",
       "9235                           1                   0                      0   \n",
       "9236                           1                   0                      0   \n",
       "9237                           1                   0                      0   \n",
       "9238                           0                   1                      0   \n",
       "9239                           1                   0                      0   \n",
       "\n",
       "      Lead Source_NC_EDM  Lead Source_Olark Chat  Lead Source_Organic Search  \\\n",
       "0                      0                       1                           0   \n",
       "1                      0                       0                           1   \n",
       "2                      0                       0                           0   \n",
       "3                      0                       0                           0   \n",
       "4                      0                       0                           0   \n",
       "...                  ...                     ...                         ...   \n",
       "9235                   0                       0                           0   \n",
       "9236                   0                       0                           0   \n",
       "9237                   0                       0                           0   \n",
       "9238                   0                       0                           0   \n",
       "9239                   0                       0                           0   \n",
       "\n",
       "      Lead Source_Pay per Click Ads  Lead Source_Press_Release  \\\n",
       "0                                 0                          0   \n",
       "1                                 0                          0   \n",
       "2                                 0                          0   \n",
       "3                                 0                          0   \n",
       "4                                 0                          0   \n",
       "...                             ...                        ...   \n",
       "9235                              0                          0   \n",
       "9236                              0                          0   \n",
       "9237                              0                          0   \n",
       "9238                              0                          0   \n",
       "9239                              0                          0   \n",
       "\n",
       "      Lead Source_Reference  Lead Source_Referral Sites  ...  \\\n",
       "0                         0                           0  ...   \n",
       "1                         0                           0  ...   \n",
       "2                         0                           0  ...   \n",
       "3                         0                           0  ...   \n",
       "4                         0                           0  ...   \n",
       "...                     ...                         ...  ...   \n",
       "9235                      0                           0  ...   \n",
       "9236                      0                           0  ...   \n",
       "9237                      0                           0  ...   \n",
       "9238                      0                           0  ...   \n",
       "9239                      0                           0  ...   \n",
       "\n",
       "      Last Notable Activity_Form Submitted on Website  \\\n",
       "0                                                   0   \n",
       "1                                                   0   \n",
       "2                                                   0   \n",
       "3                                                   0   \n",
       "4                                                   0   \n",
       "...                                               ...   \n",
       "9235                                                0   \n",
       "9236                                                0   \n",
       "9237                                                0   \n",
       "9238                                                0   \n",
       "9239                                                0   \n",
       "\n",
       "      Last Notable Activity_Had a Phone Conversation  \\\n",
       "0                                                  0   \n",
       "1                                                  0   \n",
       "2                                                  0   \n",
       "3                                                  0   \n",
       "4                                                  0   \n",
       "...                                              ...   \n",
       "9235                                               0   \n",
       "9236                                               0   \n",
       "9237                                               0   \n",
       "9238                                               0   \n",
       "9239                                               0   \n",
       "\n",
       "      Last Notable Activity_Modified  \\\n",
       "0                                  1   \n",
       "1                                  0   \n",
       "2                                  0   \n",
       "3                                  1   \n",
       "4                                  1   \n",
       "...                              ...   \n",
       "9235                               0   \n",
       "9236                               0   \n",
       "9237                               0   \n",
       "9238                               0   \n",
       "9239                               1   \n",
       "\n",
       "      Last Notable Activity_Olark Chat Conversation  \\\n",
       "0                                                 0   \n",
       "1                                                 0   \n",
       "2                                                 0   \n",
       "3                                                 0   \n",
       "4                                                 0   \n",
       "...                                             ...   \n",
       "9235                                              0   \n",
       "9236                                              0   \n",
       "9237                                              0   \n",
       "9238                                              0   \n",
       "9239                                              0   \n",
       "\n",
       "      Last Notable Activity_Page Visited on Website  \\\n",
       "0                                                 0   \n",
       "1                                                 0   \n",
       "2                                                 0   \n",
       "3                                                 0   \n",
       "4                                                 0   \n",
       "...                                             ...   \n",
       "9235                                              0   \n",
       "9236                                              0   \n",
       "9237                                              0   \n",
       "9238                                              0   \n",
       "9239                                              0   \n",
       "\n",
       "      Last Notable Activity_Resubscribed to emails  \\\n",
       "0                                                0   \n",
       "1                                                0   \n",
       "2                                                0   \n",
       "3                                                0   \n",
       "4                                                0   \n",
       "...                                            ...   \n",
       "9235                                             0   \n",
       "9236                                             0   \n",
       "9237                                             0   \n",
       "9238                                             0   \n",
       "9239                                             0   \n",
       "\n",
       "      Last Notable Activity_SMS Sent  Last Notable Activity_Unreachable  \\\n",
       "0                                  0                                  0   \n",
       "1                                  0                                  0   \n",
       "2                                  0                                  0   \n",
       "3                                  0                                  0   \n",
       "4                                  0                                  0   \n",
       "...                              ...                                ...   \n",
       "9235                               0                                  0   \n",
       "9236                               1                                  0   \n",
       "9237                               1                                  0   \n",
       "9238                               1                                  0   \n",
       "9239                               0                                  0   \n",
       "\n",
       "      Last Notable Activity_Unsubscribed  \\\n",
       "0                                      0   \n",
       "1                                      0   \n",
       "2                                      0   \n",
       "3                                      0   \n",
       "4                                      0   \n",
       "...                                  ...   \n",
       "9235                                   0   \n",
       "9236                                   0   \n",
       "9237                                   0   \n",
       "9238                                   0   \n",
       "9239                                   0   \n",
       "\n",
       "      Last Notable Activity_View in browser link Clicked  \n",
       "0                                                     0   \n",
       "1                                                     0   \n",
       "2                                                     0   \n",
       "3                                                     0   \n",
       "4                                                     0   \n",
       "...                                                 ...   \n",
       "9235                                                  0   \n",
       "9236                                                  0   \n",
       "9237                                                  0   \n",
       "9238                                                  0   \n",
       "9239                                                  0   \n",
       "\n",
       "[9240 rows x 151 columns]"
      ]
     },
     "execution_count": 60,
     "metadata": {},
     "output_type": "execute_result"
    }
   ],
   "source": [
    "dummies=pd.get_dummies(data_dropped[['Lead Source','Country','Do Not Email', 'Do Not Call','Specialization',\n",
    "                                     'How did you hear about Madugital','Tags','What matters most to you in choosing a product',\n",
    "                                     'What is your current occupation','Through Recommendations','Lead Quality',\n",
    "                                     'Asymmetrique Activity Index','Asymmetrique Profile Index','Lead Profile',\n",
    "                                     'Last Notable Activity',]],drop_first=True)\n",
    "dummies"
   ]
  },
  {
   "cell_type": "markdown",
   "id": "884a30c7",
   "metadata": {},
   "source": [
    "## 4. Modelling Preparations\n",
    "Join the dummies with the final data and drop the unnecessary variables from the final data"
   ]
  },
  {
   "cell_type": "code",
   "execution_count": 61,
   "id": "acf2a121",
   "metadata": {},
   "outputs": [],
   "source": [
    "final_data=data_dropped.join(dummies)"
   ]
  },
  {
   "cell_type": "code",
   "execution_count": 62,
   "id": "91a1987d",
   "metadata": {},
   "outputs": [],
   "source": [
    "final_data.drop(['Prospect ID', 'Lead Number', 'Lead Origin', 'Lead Source',\n",
    "       'Do Not Email', 'Do Not Call', 'Last Activity',\n",
    "       'Country', 'Specialization', 'How did you hear about Madugital',\n",
    "       'What is your current occupation',\n",
    "       'What matters most to you in choosing a product', 'Search', 'Magazine',\n",
    "       'Newspaper Article', 'Madugital Telegram', 'Newspaper',\n",
    "       'Digital Advertisement','Through Recommendations',\n",
    "       'Receive More Updates About Our Products', 'Tags', 'Lead Quality',\n",
    "       'Update me on Supply Chain Content', 'Get updates on DM Content',\n",
    "       'Lead Profile', 'City', 'Asymmetrique Activity Index',\n",
    "       'Asymmetrique Profile Index','I agree to pay the amount through cheque',\n",
    "       'A free copy of Mastering The Interview','Last Notable Activity'], axis = 1, inplace = True)"
   ]
  },
  {
   "cell_type": "code",
   "execution_count": 63,
   "id": "b87b3c21",
   "metadata": {
    "scrolled": true
   },
   "outputs": [
    {
     "data": {
      "text/plain": [
       "Index(['Converted', 'TotalVisits', 'Total Time Spent on Website',\n",
       "       'Page Views Per Visit', 'Asymmetrique Activity Score',\n",
       "       'Asymmetrique Profile Score', 'Lead Source_Direct Traffic',\n",
       "       'Lead Source_Google', 'Lead Source_Live Chat', 'Lead Source_NC_EDM',\n",
       "       ...\n",
       "       'Last Notable Activity_Form Submitted on Website',\n",
       "       'Last Notable Activity_Had a Phone Conversation',\n",
       "       'Last Notable Activity_Modified',\n",
       "       'Last Notable Activity_Olark Chat Conversation',\n",
       "       'Last Notable Activity_Page Visited on Website',\n",
       "       'Last Notable Activity_Resubscribed to emails',\n",
       "       'Last Notable Activity_SMS Sent', 'Last Notable Activity_Unreachable',\n",
       "       'Last Notable Activity_Unsubscribed',\n",
       "       'Last Notable Activity_View in browser link Clicked'],\n",
       "      dtype='object', length=157)"
      ]
     },
     "execution_count": 63,
     "metadata": {},
     "output_type": "execute_result"
    }
   ],
   "source": [
    "final_data.columns"
   ]
  },
  {
   "cell_type": "markdown",
   "id": "08a15446",
   "metadata": {},
   "source": [
    "## 5. Modelling\n",
    "Start the modelling using Decision Tree Classifier"
   ]
  },
  {
   "cell_type": "code",
   "execution_count": 64,
   "id": "d1a26ec4",
   "metadata": {},
   "outputs": [
    {
     "data": {
      "text/plain": [
       "((6468, 157), (2772, 157))"
      ]
     },
     "execution_count": 64,
     "metadata": {},
     "output_type": "execute_result"
    }
   ],
   "source": [
    "train, test = train_test_split(final_data, test_size=0.3, random_state=1000)\n",
    "train.shape, test.shape"
   ]
  },
  {
   "cell_type": "code",
   "execution_count": 65,
   "id": "95d7a05b",
   "metadata": {},
   "outputs": [
    {
     "name": "stderr",
     "output_type": "stream",
     "text": [
      "C:\\Users\\user\\AppData\\Local\\Temp\\ipykernel_20012\\582425453.py:1: FutureWarning: In a future version of pandas all arguments of DataFrame.drop except for the argument 'labels' will be keyword-only.\n",
      "  X_train=train.drop(['Converted'],1)\n",
      "C:\\Users\\user\\AppData\\Local\\Temp\\ipykernel_20012\\582425453.py:4: FutureWarning: In a future version of pandas all arguments of DataFrame.drop except for the argument 'labels' will be keyword-only.\n",
      "  X_test=test.drop(['Converted'],1)\n"
     ]
    },
    {
     "data": {
      "text/plain": [
       "DecisionTreeClassifier(random_state=1000)"
      ]
     },
     "execution_count": 65,
     "metadata": {},
     "output_type": "execute_result"
    }
   ],
   "source": [
    "X_train=train.drop(['Converted'],1)\n",
    "y_train=train['Converted']\n",
    "\n",
    "X_test=test.drop(['Converted'],1)\n",
    "y_test=test['Converted']\n",
    "\n",
    "dt=DecisionTreeClassifier(random_state=1000)\n",
    "dt.fit(X_train,y_train)"
   ]
  },
  {
   "cell_type": "code",
   "execution_count": 66,
   "id": "9eb6a9ad",
   "metadata": {},
   "outputs": [
    {
     "data": {
      "text/plain": [
       "array([1, 1, 1, ..., 1, 1, 0], dtype=int64)"
      ]
     },
     "execution_count": 66,
     "metadata": {},
     "output_type": "execute_result"
    }
   ],
   "source": [
    "dt.predict(X_test)"
   ]
  },
  {
   "cell_type": "code",
   "execution_count": 67,
   "id": "4c7685d7",
   "metadata": {
    "scrolled": true
   },
   "outputs": [
    {
     "data": {
      "text/plain": [
       "1562    1\n",
       "3407    1\n",
       "8623    1\n",
       "2575    1\n",
       "5419    0\n",
       "       ..\n",
       "3567    0\n",
       "3438    0\n",
       "1518    1\n",
       "4546    1\n",
       "5554    0\n",
       "Name: Converted, Length: 2772, dtype: int64"
      ]
     },
     "execution_count": 67,
     "metadata": {},
     "output_type": "execute_result"
    }
   ],
   "source": [
    "y_test"
   ]
  },
  {
   "cell_type": "markdown",
   "id": "a7ad212c",
   "metadata": {},
   "source": [
    "## 6. Modelling Evaluation\n",
    "Check whether the model is good or needs an improvement"
   ]
  },
  {
   "cell_type": "code",
   "execution_count": 68,
   "id": "1a6b2ec1",
   "metadata": {},
   "outputs": [
    {
     "name": "stdout",
     "output_type": "stream",
     "text": [
      "0.9242424242424242 0.9023255813953488 0.9023255813953488\n"
     ]
    }
   ],
   "source": [
    "y_pred = dt.predict(X_test)\n",
    "accuracy = accuracy_score(y_test, y_pred)\n",
    "precision = precision_score(y_test, y_pred)\n",
    "recall = recall_score(y_test, y_pred)\n",
    "print(accuracy, precision, recall)"
   ]
  },
  {
   "cell_type": "markdown",
   "id": "8235b6d6",
   "metadata": {},
   "source": [
    "## 7. Improvement\n",
    "Because the model's accuracy, precision, and recall are more than 90% then the model is considered good so it doesn't need an improvement"
   ]
  }
 ],
 "metadata": {
  "kernelspec": {
   "display_name": "Python 3 (ipykernel)",
   "language": "python",
   "name": "python3"
  },
  "language_info": {
   "codemirror_mode": {
    "name": "ipython",
    "version": 3
   },
   "file_extension": ".py",
   "mimetype": "text/x-python",
   "name": "python",
   "nbconvert_exporter": "python",
   "pygments_lexer": "ipython3",
   "version": "3.9.13"
  }
 },
 "nbformat": 4,
 "nbformat_minor": 5
}
